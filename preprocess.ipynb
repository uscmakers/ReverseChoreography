{
 "cells": [
  {
   "cell_type": "code",
   "execution_count": 1,
   "id": "872df829",
   "metadata": {},
   "outputs": [],
   "source": [
    "import pandas as pd\n",
    "import numpy as np\n",
    "from os.path import exists\n",
    "import re"
   ]
  },
  {
   "cell_type": "code",
   "execution_count": 2,
   "id": "4860e24b",
   "metadata": {},
   "outputs": [],
   "source": [
    "## FUNCTIONS ##\n",
    "\n",
    "#Parse String\n",
    "def split_ele(x):\n",
    "    a = np.array(re.findall(r\"[-+]?\\d*\\.?\\d+|[-+]?\\d+\", x))\n",
    "    return a.astype(float)"
   ]
  },
  {
   "cell_type": "code",
   "execution_count": 3,
   "id": "b4542475",
   "metadata": {},
   "outputs": [],
   "source": [
    "# READ IN FILE ##\n",
    "pose_landmark = ['NOSE', 'LEFT_EYE_INNER', 'LEFT_EYE', 'LEFT_EYE_OUTER', 'RIGHT_EYE_INNER', 'RIGHT_EYE', \n",
    "                 'RIGHT_EYE_OUTER', 'LEFT_EAR', 'RIGHT_EAR', 'MOUTH_LEFT', 'MOUTH_RIGHT', 'LEFT_SHOULDER', \n",
    "                 'RIGHT_SHOULDER', 'LEFT_ELBOW', 'RIGHT_ELBOW', 'LEFT_WRIST', 'RIGHT_WRIST', 'LEFT_PINKY', \n",
    "                 'RIGHT_PINKY', 'LEFT_INDEX', 'RIGHT_INDEX', 'LEFT_THUMB', 'RIGHT_THUMB', 'LEFT_HIP', 'RIGHT_HIP', \n",
    "                 'LEFT_KNEE', 'RIGHT_KNEE', 'LEFT_ANKLE', 'RIGHT_ANKLE', 'LEFT_HEEL', 'RIGHT_HEEL', 'LEFT_FOOT_INDEX',\n",
    "                 'RIGHT_FOOT_INDEX']"
   ]
  },
  {
   "cell_type": "code",
   "execution_count": 4,
   "id": "18709548",
   "metadata": {},
   "outputs": [],
   "source": [
    "song_name_list = ['love_girl', 'party_rock_anthem', 'lite_spots', 'girlfriends_best_friend', 'scaredy_cat', 'girl_anachronism', 'lil_darlin', 'el_invento', 'test_drive', 'weight_in_gold', 'easy', 'comethru', 'classic', 'tongue_tied', 'motley', 'knife_talk', 'feed_the_fire', 'lose_it', 'thats_what_i_like', 'humble', 'skeletons', 'stairway_to_heaven', 'slow_dancing_in_the_dark', 'peaches', 'kilby_girl', 'jupiter_love', 'woman', 'get_up', 'throwin_elbows', 'power', 'ymca']\n",
    "artist_name_list = ['cnblue', 'lmfao', 'kaytranada', 'walkabout', 'dpr_ian', 'the_dresden_dolls', 'count_basie', 'jose_gonzalez_calvaire', 'ariana_grande', 'gallant', 'wheein', 'jeremy_zucker', 'mkto', 'grouplove', 'post_malone', 'drake', 'lucky_daye', 'swmrs', 'bruno_mars', 'kendrick_lamar', 'keshi', 'led_zeppelin', 'joji', 'justin_bieber', 'backseat_lovers', 'trey_songz', 'doja_cat', 'shinedown', 'excision', 'kanye', 'village_people']\n",
    "num_runs = 3\n",
    "num_splits = 3\n"
   ]
  },
  {
   "cell_type": "code",
   "execution_count": 5,
   "id": "3fbccc10",
   "metadata": {},
   "outputs": [],
   "source": [
    "for file_num in range(1, num_runs+1):\n",
    "    for index in range(len(song_name_list)):\n",
    "\n",
    "        file_song = song_name_list[index]\n",
    "        file_artist = artist_name_list[index]\n",
    "\n",
    "        file_name = \"data/\"+str(file_num) + \"_\" + file_song + \"_\"+file_artist+\".csv\"\n",
    "\n",
    "\n",
    "        #if file does not exist, skip it\n",
    "        if(exists(file_name)):\n",
    "            num_features = 10\n",
    "            num_nodes = 14\n",
    "            num_samples = 10\n",
    "\n",
    "            pose_landmark_subset = ['LEFT_EYE_OUTER', 'RIGHT_EYE_OUTER', 'LEFT_SHOULDER', 'RIGHT_SHOULDER', \n",
    "                                    'LEFT_ELBOW', 'RIGHT_ELBOW', 'LEFT_WRIST', 'RIGHT_WRIST', 'LEFT_HIP', 'RIGHT_HIP',\n",
    "                                    'LEFT_KNEE', 'RIGHT_KNEE', 'LEFT_ANKLE', 'RIGHT_ANKLE']\n",
    "            df_columns = ['LEFT_EYE_OUTER_POS', 'LEFT_EYE_OUTER_DIST', 'RIGHT_EYE_OUTER_POS', 'RIGHT_EYE_OUTER_DIST', \n",
    "                'LEFT_SHOULDER_POS', 'LEFT_SHOULDER_DIST', 'RIGHT_SHOULDER_POS', 'RIGHT_SHOULDER_DIST', \n",
    "                'LEFT_ELBOW_POS', 'LEFT_ELBOW_DIST', 'RIGHT_ELBOW_POS', 'RIGHT_ELBOW_DIST', 'LEFT_WRIST_POS', \n",
    "                'LEFT_WRIST_DIST', 'RIGHT_WRIST_POS', 'RIGHT_WRIST_DIST', 'LEFT_HIP_POS', 'LEFT_HIP_DIST', \n",
    "                'RIGHT_HIP_POS', 'RIGHT_HIP_DIST', 'LEFT_KNEE_POS', 'LEFT_KNEE_DIST', 'RIGHT_KNEE_POS', \n",
    "                'RIGHT_KNEE_DIST', 'LEFT_ANKLE_POS', 'LEFT_ANKLE_DIST', 'RIGHT_ANKLE_POS', 'RIGHT_ANKLE_DIST']\n",
    "            df = pd.read_csv(file_name, sep = ',', usecols=[4, 7, 12, 13, 14, 15, 16, 17, 24, 25, 26, 27, 28, 29])\n",
    "\n",
    "            splitDf = np.array_split(df, num_splits)\n",
    "            \n",
    "            for subDf in range(len(splitDf)):\n",
    "                x_data = pd.DataFrame(columns=df_columns, index=range(len(splitDf[subDf])))\n",
    "                y_data = pd.DataFrame(columns=df_columns, index=range(len(splitDf[subDf])))\n",
    "\n",
    "                for node in pose_landmark_subset:\n",
    "                    curr = splitDf[subDf][node]\n",
    "                    vals = [split_ele(x) for x in curr]\n",
    "                    for row in range(len(vals)):\n",
    "                        colname_pos = node + \"_POS\"\n",
    "                        colname_dist = node + \"_DIST\"\n",
    "\n",
    "                        if(row == 0):\n",
    "                            x_data[colname_dist][row] = 0\n",
    "                            y_data[colname_dist][row] = 0\n",
    "                        else:\n",
    "                            x_data[colname_dist][row] = vals[row][0] - vals[row-1][0]\n",
    "                            y_data[colname_dist][row] = vals[row][1] - vals[row-1][1]\n",
    "\n",
    "                        x_data[colname_pos][row] = vals[row][0]\n",
    "                        y_data[colname_pos][row] = vals[row][1]\n",
    "                        \n",
    "                x_data_file_write = f'preprocessed/{file_num}_{subDf}_{file_song}_{file_artist}_XDATA.csv'\n",
    "                x_data.to_csv(x_data_file_write)\n",
    "                y_data_file_write = f'preprocessed/{file_num}_{subDf}_{file_song}_{file_artist}_YDATA.csv'\n",
    "                y_data.to_csv(y_data_file_write) \n",
    "    "
   ]
  },
  {
   "cell_type": "code",
   "execution_count": null,
   "id": "c0af0aeb",
   "metadata": {},
   "outputs": [],
   "source": []
  }
 ],
 "metadata": {
  "kernelspec": {
   "display_name": "Python 3",
   "language": "python",
   "name": "python3"
  },
  "language_info": {
   "codemirror_mode": {
    "name": "ipython",
    "version": 3
   },
   "file_extension": ".py",
   "mimetype": "text/x-python",
   "name": "python",
   "nbconvert_exporter": "python",
   "pygments_lexer": "ipython3",
   "version": "3.8.12"
  }
 },
 "nbformat": 4,
 "nbformat_minor": 5
}
