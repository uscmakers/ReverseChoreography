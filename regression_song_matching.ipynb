{
 "cells": [
  {
   "cell_type": "code",
   "execution_count": 14,
   "metadata": {},
   "outputs": [],
   "source": [
    "import pandas as pd\n",
    "import math\n",
    "import logging\n",
    "import spotipy\n",
    "from spotipy.oauth2 import SpotifyClientCredentials\n",
    "from spotipy.oauth2 import SpotifyOAuth\n",
    "from sklearn.linear_model import LinearRegression\n",
    "from sklearn.model_selection import train_test_split"
   ]
  },
  {
   "cell_type": "code",
   "execution_count": 9,
   "metadata": {},
   "outputs": [],
   "source": [
    "data = pd.read_csv(\"parser_output/extracted_features_split_3_7.csv\")\n",
    "data = data.dropna()"
   ]
  },
  {
   "cell_type": "code",
   "execution_count": 10,
   "metadata": {},
   "outputs": [],
   "source": [
    "y = data[['danceability', 'energy', 'loudness', 'speechiness', 'acousticness', 'instrumentalness', 'liveness', 'valence', 'tempo']]\n",
    "x = data[data.columns[1:len(data.columns)-12]]\n",
    "\n",
    "X_train, X_test, y_train, y_test = train_test_split(x, y, test_size=0.7)"
   ]
  },
  {
   "cell_type": "code",
   "execution_count": 11,
   "metadata": {},
   "outputs": [
    {
     "name": "stdout",
     "output_type": "stream",
     "text": [
      "LINEAR REGRESSION\n",
      "Train Score: \n",
      "1.0\n",
      "Test Score: \n",
      "-29.30024986822348\n"
     ]
    }
   ],
   "source": [
    "#lINEAR REGRESSION - \n",
    "reg_model = LinearRegression().fit(X_train, y_train)\n",
    "ypred_train = reg_model.predict(X_train)\n",
    "ypred_test = reg_model.predict(X_test)\n",
    "print(\"LINEAR REGRESSION\")\n",
    "print(\"Train Score: \")\n",
    "print(r2_score(y_train, ypred_train))\n",
    "print(\"Test Score: \")\n",
    "print(r2_score(y_test, ypred_test))"
   ]
  },
  {
   "cell_type": "code",
   "execution_count": 12,
   "metadata": {},
   "outputs": [
    {
     "name": "stdout",
     "output_type": "stream",
     "text": [
      "[[ 8.80519912e-01 -1.30215355e-01 -2.00908315e+01 ... -3.41310741e-01\n",
      "   2.42025064e-01  1.86613938e+02]\n",
      " [ 1.24335129e+00  1.99433220e-01 -1.79766603e+01 ...  2.14288359e-02\n",
      "  -3.98414154e-01  2.17127951e+02]\n",
      " [ 4.65918534e-01 -1.09349458e-01 -1.89082686e+01 ...  2.93421374e-01\n",
      "  -1.87447874e+00  2.54340469e+02]\n",
      " ...\n",
      " [ 8.96992044e-01  6.57714617e-01  8.11629843e-01 ...  5.58951827e-01\n",
      "   8.06016537e-01  1.80903202e+02]\n",
      " [ 8.37952043e-01 -1.09711639e-01 -2.34524785e+01 ...  1.68459591e-01\n",
      "  -4.13046967e-01  1.08741206e+02]\n",
      " [ 1.01526882e+00  4.15053345e-02 -4.19289041e+00 ...  7.58863631e-02\n",
      "   1.48213148e-02  2.05433556e+02]] \n",
      "\n",
      "\n",
      "\n",
      "[ 8.80519912e-01 -1.30215355e-01 -2.00908315e+01  7.56437905e-02\n",
      "  7.62148299e-01  8.05315030e-02 -3.41310741e-01  2.42025064e-01\n",
      "  1.86613938e+02]\n"
     ]
    }
   ],
   "source": [
    "print(ypred_test, '\\n\\n\\n')\n",
    "print(ypred_test[0])"
   ]
  },
  {
   "cell_type": "code",
   "execution_count": 15,
   "metadata": {},
   "outputs": [],
   "source": [
    "# Instantiate Spotify Client\n",
    "logger = logging.getLogger()\n",
    "logging.basicConfig()\n",
    "CLIENT_ID=\"9793440f0a5047c59c70bcfcf91ad589\"\n",
    "CLIENT_SECRET= \"b66dc3a5f9f34207bebee32a25745368\"\n",
    "REDIRECT_URL=\"http://localhost/\"\n",
    "client_credentials_manager = SpotifyClientCredentials(client_id = CLIENT_ID, client_secret = CLIENT_SECRET)\n",
    "oAuth = SpotifyOAuth(client_id = CLIENT_ID, client_secret = CLIENT_SECRET, redirect_uri = REDIRECT_URL, scope = 'user-modify-playback-state')\n",
    "sp = spotipy.Spotify(auth_manager =oAuth)"
   ]
  },
  {
   "cell_type": "code",
   "execution_count": 58,
   "metadata": {},
   "outputs": [],
   "source": [
    "def get_song(name_song, name_artist):\n",
    "    results = sp.search(q=name_song + ' '+name_artist, type='track')\n",
    "    items = results['tracks']['items']\n",
    "    if len(items) > 0:\n",
    "        return items[0]\n",
    "    else:\n",
    "        return None\n",
    "\n",
    "# Spotify Song Features\n",
    "def get_audio_features(song_name, artist_name):\n",
    "\n",
    "    song = get_song(song_name, artist_name)\n",
    "\n",
    "    #if get request didnt get anything\n",
    "    if(song is None):\n",
    "        return None\n",
    "\n",
    "    song_features = sp.audio_features([song['uri']])\n",
    "\n",
    "    audio_feature_list = ['danceability', 'energy', 'key', 'loudness', 'mode', 'speechiness', 'acousticness', \n",
    "                          'instrumentalness', 'liveness', 'valence', 'tempo', 'time_signature']\n",
    "\n",
    "    audio_feat = []\n",
    "    \n",
    "    audio_feat.append(song_features[0].get('danceability'))\n",
    "    audio_feat.append(song_features[0].get('energy'))\n",
    "    audio_feat.append(song_features[0].get('loudness'))\n",
    "    audio_feat.append(song_features[0].get('speechiness'))\n",
    "    audio_feat.append(song_features[0].get('acousticness'))\n",
    "    audio_feat.append(song_features[0].get('instrumentalness'))\n",
    "    audio_feat.append(song_features[0].get('liveness'))\n",
    "    audio_feat.append(song_features[0].get('valence'))\n",
    "    audio_feat.append(song_features[0].get('tempo'))\n",
    "\n",
    "    return audio_feat"
   ]
  },
  {
   "cell_type": "code",
   "execution_count": 59,
   "metadata": {},
   "outputs": [],
   "source": [
    "song_artist_pairs = {\n",
    "    '1':('thats_what_i_like','bruno_mars'),\n",
    "    '2':('humble','kendrick_lamar'),\n",
    "    '3':('skeletons','keshi'),\n",
    "    '4':('slow_dancing_in_the_dark','joji'),\n",
    "    '5':('lite_spots','kaytranada'),\n",
    "    '6':('woman','doja_cat'),\n",
    "    '7':('get_up','ciara'),\n",
    "    '8':('throwin_elbows','excision'),\n",
    "    '9':('power','little mix'),\n",
    "    '10':('peaches','justin_bieber'),\n",
    "    '11':('knife_talk','drake'),\n",
    "    '12':('fool_around','yas'),\n",
    "    '13':('levitating','dua_lipa'),\n",
    "    '14':('feed_the_fire','lucky_daye'),\n",
    "    '15':('easily','bruno_major'),\n",
    "    '16':('good_4_u','olivia_rodrigo'),\n",
    "    '17':('all_i_wanna_do','jay_park'),\n",
    "    '18':('sad_girlz_luv_money','amaarae'),\n",
    "    '19':('tik_tok','kesha'),\n",
    "    '20':('ymca','village_people'),\n",
    "    '21':('intuition_interlude','jamie_foxx'),\n",
    "    '22':('kilby_girl','the_backseat_lovers'),\n",
    "    '23':('a_thousand_miles','vanessa_carlton')\n",
    "}                "
   ]
  },
  {
   "cell_type": "code",
   "execution_count": 74,
   "metadata": {},
   "outputs": [],
   "source": [
    "song_artist_features = []\n",
    "\n",
    "# Extract all features\n",
    "for key in song_artist_pairs.keys():\n",
    "\n",
    "    song_name = song_artist_pairs[key][0]\n",
    "    artist_name = song_artist_pairs[key][1]\n",
    "\n",
    "    try:\n",
    "        audio_feat = get_audio_features(song_name, artist_name)\n",
    "    except:\n",
    "        oAuth = SpotifyOAuth(client_id = CLIENT_ID, client_secret = CLIENT_SECRET, redirect_uri = REDIRECT_URL, scope = 'user-modify-playback-state')\n",
    "        sp = spotipy.Spotify(auth_manager =oAuth)\n",
    "        audio_feat = get_audio_features(song_name, artist_name)\n",
    "    if audio_feat:\n",
    "        song_artist_features.append((song_name, artist_name, audio_feat))"
   ]
  },
  {
   "cell_type": "code",
   "execution_count": 75,
   "metadata": {},
   "outputs": [
    {
     "name": "stdout",
     "output_type": "stream",
     "text": [
      "('thats_what_i_like', 'bruno_mars', [0.853, 0.56, -4.961, 0.0406, 0.013, 0, 0.0944, 0.86, 134.066])\n",
      "('humble', 'kendrick_lamar', [0.908, 0.621, -6.638, 0.102, 0.000282, 5.39e-05, 0.0958, 0.421, 150.011])\n",
      "('skeletons', 'keshi', [0.719, 0.265, -12.782, 0.0754, 0.296, 0.0865, 0.108, 0.273, 80.021])\n",
      "('slow_dancing_in_the_dark', 'joji', [0.515, 0.479, -7.458, 0.0261, 0.544, 0.00598, 0.191, 0.284, 88.964])\n",
      "('lite_spots', 'kaytranada', [0.884, 0.549, -11.683, 0.471, 0.0346, 0.0698, 0.112, 0.394, 120.461])\n",
      "('woman', 'doja_cat', [0.824, 0.764, -4.175, 0.0854, 0.0888, 0.00294, 0.117, 0.881, 107.998])\n",
      "('get_up', 'ciara', [0.964, 0.595, -6.887, 0.109, 0.0248, 5.14e-06, 0.0405, 0.629, 128.593])\n",
      "('throwin_elbows', 'excision', [0.574, 0.94, -3.038, 0.569, 0.00317, 0.0431, 0.113, 0.362, 149.988])\n",
      "('power', 'little mix', [0.566, 0.855, -4.016, 0.211, 0.0372, 0.000157, 0.181, 0.517, 172.966])\n",
      "('peaches', 'justin_bieber', [0.677, 0.696, -6.181, 0.119, 0.321, 0, 0.42, 0.464, 90.03])\n",
      "('knife_talk', 'drake', [0.849, 0.424, -9.579, 0.324, 0.0635, 0, 0.0834, 0.153, 145.887])\n",
      "('fool_around', 'yas', [0.635, 0.476, -10.101, 0.0639, 0.685, 9.14e-06, 0.14, 0.26, 119.738])\n",
      "('levitating', 'dua_lipa', [0.702, 0.825, -3.787, 0.0601, 0.00883, 0, 0.0674, 0.915, 102.977])\n",
      "('easily', 'bruno_major', [0.772, 0.256, -8.545, 0.0481, 0.491, 0.00612, 0.144, 0.357, 118.902])\n",
      "('good_4_u', 'olivia_rodrigo', [0.563, 0.664, -5.044, 0.154, 0.335, 0, 0.0849, 0.688, 166.928])\n",
      "('all_i_wanna_do', 'jay_park', [0.613, 0.668, -6.867, 0.267, 0.245, 0, 0.0735, 0.509, 96.176])\n",
      "('sad_girlz_luv_money', 'amaarae', [0.87, 0.523, -8.052, 0.0602, 0.433, 2.07e-05, 0.113, 0.319, 110.02])\n",
      "('tik_tok', 'kesha', [0.755, 0.837, -2.718, 0.142, 0.0991, 0, 0.289, 0.714, 120.028])\n",
      "('ymca', 'village_people', [0.715, 0.951, -6.488, 0.132, 0.152, 0, 0.302, 0.671, 126.643])\n",
      "('intuition_interlude', 'jamie_foxx', [0.676, 0.412, -11.343, 0.0913, 0.0424, 8.91e-06, 0.0609, 0.565, 168.05])\n",
      "('kilby_girl', 'the_backseat_lovers', [0.329, 0.444, -9.973, 0.0417, 0.0578, 0.0352, 0.113, 0.225, 162.279])\n",
      "('a_thousand_miles', 'vanessa_carlton', [0.56, 0.825, -3.862, 0.0379, 0.323, 0, 0.161, 0.268, 94.931])\n"
     ]
    }
   ],
   "source": [
    "for i in range(len(song_artist_features)):\n",
    "    print(song_artist_features[i])"
   ]
  },
  {
   "cell_type": "code",
   "execution_count": 78,
   "metadata": {},
   "outputs": [],
   "source": [
    "def find_diffs(feature1, feature2):\n",
    "    diffs = 0\n",
    "    for i in range(len(feature1)):\n",
    "        diffs += abs(feature1[i] - feature2[i])\n",
    "    return diffs\n",
    "\n",
    "def find_diffs_sq(feature1, feature2):\n",
    "    diffs = 0\n",
    "    for i in range(len(feature1)):\n",
    "        diffs += (feature1[i] - feature2[i])**2\n",
    "    return diffs\n",
    "\n",
    "def find_closest_song(features):\n",
    "    \n",
    "    minDistance = sum(abs(features))\n",
    "    minIndex = 0\n",
    "        \n",
    "    for i in range(len(song_artist_features)):\n",
    "        diffs = find_diffs(features, song_artist_features[i][2])\n",
    "        if diffs < minDistance:\n",
    "            minDistance = diffs\n",
    "            minIndex = i\n",
    "            \n",
    "    return minIndex\n",
    "        "
   ]
  },
  {
   "cell_type": "code",
   "execution_count": 80,
   "metadata": {},
   "outputs": [
    {
     "name": "stdout",
     "output_type": "stream",
     "text": [
      "a_thousand_miles vanessa_carlton\n"
     ]
    }
   ],
   "source": [
    "maxDiffs = find_closest_song(ypred_test[0])\n",
    "print(song_artist_features[i][0], song_artist_features[i][1])"
   ]
  },
  {
   "cell_type": "code",
   "execution_count": null,
   "metadata": {},
   "outputs": [],
   "source": []
  }
 ],
 "metadata": {
  "kernelspec": {
   "display_name": "Python 3",
   "language": "python",
   "name": "python3"
  },
  "language_info": {
   "codemirror_mode": {
    "name": "ipython",
    "version": 3
   },
   "file_extension": ".py",
   "mimetype": "text/x-python",
   "name": "python",
   "nbconvert_exporter": "python",
   "pygments_lexer": "ipython3",
   "version": "3.6.10"
  }
 },
 "nbformat": 4,
 "nbformat_minor": 4
}
