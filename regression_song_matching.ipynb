{
 "cells": [
  {
   "cell_type": "code",
   "execution_count": 6,
   "metadata": {},
   "outputs": [],
   "source": [
    "import pandas as pd\n",
    "import math\n",
    "import logging\n",
    "import spotipy\n",
    "from spotipy.oauth2 import SpotifyClientCredentials\n",
    "from spotipy.oauth2 import SpotifyOAuth\n",
    "from sklearn.linear_model import LinearRegression\n",
    "from sklearn.model_selection import train_test_split\n",
    "from sklearn.metrics import r2_score\n"
   ]
  },
  {
   "cell_type": "code",
   "execution_count": 7,
   "metadata": {},
   "outputs": [],
   "source": [
    "data = pd.read_csv(\"parser_output/extracted_features_split_3_7.csv\")\n",
    "data = data.dropna()"
   ]
  },
  {
   "cell_type": "code",
   "execution_count": 8,
   "metadata": {},
   "outputs": [],
   "source": [
    "y = data[['danceability', 'energy', 'loudness', 'speechiness', 'acousticness', 'instrumentalness', 'liveness', 'valence', 'tempo']]\n",
    "x = data[data.columns[1:len(data.columns)-12]]\n",
    "\n",
    "X_train, X_test, y_train, y_test = train_test_split(x, y, test_size=0.7)"
   ]
  },
  {
   "cell_type": "code",
   "execution_count": 9,
   "metadata": {},
   "outputs": [
    {
     "name": "stdout",
     "output_type": "stream",
     "text": [
      "LINEAR REGRESSION\n",
      "Train Score: \n",
      "1.0\n",
      "Test Score: \n",
      "-36.65603449895221\n"
     ]
    }
   ],
   "source": [
    "#lINEAR REGRESSION - \n",
    "reg_model = LinearRegression().fit(X_train, y_train)\n",
    "ypred_train = reg_model.predict(X_train)\n",
    "ypred_test = reg_model.predict(X_test)\n",
    "print(\"LINEAR REGRESSION\")\n",
    "print(\"Train Score: \")\n",
    "print(r2_score(y_train, ypred_train))\n",
    "print(\"Test Score: \")\n",
    "print(r2_score(y_test, ypred_test))"
   ]
  },
  {
   "cell_type": "code",
   "execution_count": 10,
   "metadata": {},
   "outputs": [
    {
     "name": "stdout",
     "output_type": "stream",
     "text": [
      "[[ 1.09571294e+00  1.42835848e+00  1.97570941e+01 ... -6.96114160e-01\n",
      "   3.47604777e+00  1.03970038e+02]\n",
      " [ 6.83445505e-01  3.01866439e-02 -1.70454442e+01 ... -4.43303621e-02\n",
      "  -1.35815791e+00  1.47521557e+02]\n",
      " [ 5.56722379e-01  6.01548090e-01 -1.00055536e+00 ...  2.49464078e-01\n",
      "   1.55573115e-01  1.58810049e+02]\n",
      " ...\n",
      " [ 5.76415570e-01 -8.27877147e-01 -3.03824824e+01 ...  4.35681757e-01\n",
      "  -1.35619357e+00 -2.93997955e+01]\n",
      " [-4.74748725e-01  2.22125773e+00 -6.33163190e+00 ...  1.26127971e+00\n",
      "   7.03263437e-01  3.29122094e+01]\n",
      " [-1.03224288e+00  1.78930843e+00  1.31631776e+01 ...  1.13275272e+00\n",
      "   1.40323296e+00 -1.40073300e+02]] \n",
      "\n",
      "\n",
      "\n",
      "[  1.09571294   1.42835848  19.75709411  -1.19918136  -0.61498003\n",
      "  -0.16833623  -0.69611416   3.47604777 103.97003838]\n"
     ]
    }
   ],
   "source": [
    "print(ypred_test, '\\n\\n\\n')\n",
    "print(ypred_test[0])"
   ]
  },
  {
   "cell_type": "code",
   "execution_count": 11,
   "metadata": {},
   "outputs": [],
   "source": [
    "# Instantiate Spotify Client\n",
    "logger = logging.getLogger()\n",
    "logging.basicConfig()\n",
    "CLIENT_ID=\"9793440f0a5047c59c70bcfcf91ad589\"\n",
    "CLIENT_SECRET= \"b66dc3a5f9f34207bebee32a25745368\"\n",
    "REDIRECT_URL=\"http://localhost/\"\n",
    "client_credentials_manager = SpotifyClientCredentials(client_id = CLIENT_ID, client_secret = CLIENT_SECRET)\n",
    "oAuth = SpotifyOAuth(client_id = CLIENT_ID, client_secret = CLIENT_SECRET, redirect_uri = REDIRECT_URL, scope = 'user-modify-playback-state')\n",
    "sp = spotipy.Spotify(auth_manager =oAuth)"
   ]
  },
  {
   "cell_type": "code",
   "execution_count": 12,
   "metadata": {},
   "outputs": [],
   "source": [
    "def get_song(name_song, name_artist):\n",
    "    results = sp.search(q=name_song + ' '+name_artist, type='track')\n",
    "    items = results['tracks']['items']\n",
    "    if len(items) > 0:\n",
    "        return items[0]\n",
    "    else:\n",
    "        return None\n",
    "\n",
    "# Spotify Song Features\n",
    "def get_audio_features(song_name, artist_name):\n",
    "\n",
    "    song = get_song(song_name, artist_name)\n",
    "\n",
    "    #if get request didnt get anything\n",
    "    if(song is None):\n",
    "        return None\n",
    "\n",
    "    song_features = sp.audio_features([song['uri']])\n",
    "\n",
    "    audio_feature_list = ['danceability', 'energy', 'key', 'loudness', 'mode', 'speechiness', 'acousticness', \n",
    "                          'instrumentalness', 'liveness', 'valence', 'tempo', 'time_signature']\n",
    "\n",
    "    audio_feat = []\n",
    "    \n",
    "    audio_feat.append(song_features[0].get('danceability'))\n",
    "    audio_feat.append(song_features[0].get('energy'))\n",
    "    audio_feat.append(song_features[0].get('loudness'))\n",
    "    audio_feat.append(song_features[0].get('speechiness'))\n",
    "    audio_feat.append(song_features[0].get('acousticness'))\n",
    "    audio_feat.append(song_features[0].get('instrumentalness'))\n",
    "    audio_feat.append(song_features[0].get('liveness'))\n",
    "    audio_feat.append(song_features[0].get('valence'))\n",
    "    audio_feat.append(song_features[0].get('tempo'))\n",
    "\n",
    "    return audio_feat"
   ]
  },
  {
   "cell_type": "code",
   "execution_count": 13,
   "metadata": {},
   "outputs": [],
   "source": [
    "song_artist_pairs = {\n",
    "    '1':('thats_what_i_like','bruno_mars'),\n",
    "    '2':('humble','kendrick_lamar'),\n",
    "    '3':('skeletons','keshi'),\n",
    "    '4':('slow_dancing_in_the_dark','joji'),\n",
    "    '5':('lite_spots','kaytranada'),\n",
    "    '6':('woman','doja_cat'),\n",
    "    '7':('get_up','ciara'),\n",
    "    '8':('throwin_elbows','excision'),\n",
    "    '9':('power','little mix'),\n",
    "    '10':('peaches','justin_bieber'),\n",
    "    '11':('knife_talk','drake'),\n",
    "    '12':('fool_around','yas'),\n",
    "    '13':('levitating','dua_lipa'),\n",
    "    '14':('feed_the_fire','lucky_daye'),\n",
    "    '15':('easily','bruno_major'),\n",
    "    '16':('good_4_u','olivia_rodrigo'),\n",
    "    '17':('all_i_wanna_do','jay_park'),\n",
    "    '18':('sad_girlz_luv_money','amaarae'),\n",
    "    '19':('tik_tok','kesha'),\n",
    "    '20':('ymca','village_people'),\n",
    "    '21':('intuition_interlude','jamie_foxx'),\n",
    "    '22':('kilby_girl','the_backseat_lovers'),\n",
    "    '23':('party_rock_anthem','lmfao'),\n",
    "    '24':('frozen','sabrina_claudio'),\n",
    "    '25':('weve_never_met_but_can_we_have_a_cup_of_coffee_or_something','in_love_with_a_ghost'),\n",
    "    '26':('piano_song','eryn_allen_kane'),\n",
    "    '27':('tacones_rojos','sebastian_yatra'),\n",
    "    '28':('face_to_face','rex_orange_county'),\n",
    "    '29':('violin_concerto_no_1_in_a_minor','johann_sebastian_bach'),\n",
    "    '30':('candy','baekhyun'),\n",
    "    '31':('whisper','boombox_cartel'),\n",
    "    '32':('in_the_name_of_love','martin_garrix'),\n",
    "    '33':('brukka','jack_and_lewis'),\n",
    "    '34':('bum_bum_tam_tam','mc_fioti'),\n",
    "    '35':('partition','beyonce'),\n",
    "    '36':('greedy','ariana_grande'),\n",
    "    '37':('idontwannabeyouanymore','billie_eilish'),\n",
    "    '38':('lost_in_japan','shawn_mendes'),\n",
    "    '39':('the_saints','andy_mineo'),\n",
    "    '40':('dynamite','bts')\n",
    "}"
   ]
  },
  {
   "cell_type": "code",
   "execution_count": 14,
   "metadata": {},
   "outputs": [],
   "source": [
    "song_artist_features = []\n",
    "\n",
    "# Extract all features\n",
    "for key in song_artist_pairs.keys():\n",
    "\n",
    "    song_name = song_artist_pairs[key][0]\n",
    "    artist_name = song_artist_pairs[key][1]\n",
    "\n",
    "    try:\n",
    "        audio_feat = get_audio_features(song_name, artist_name)\n",
    "    except:\n",
    "        oAuth = SpotifyOAuth(client_id = CLIENT_ID, client_secret = CLIENT_SECRET, redirect_uri = REDIRECT_URL, scope = 'user-modify-playback-state')\n",
    "        sp = spotipy.Spotify(auth_manager =oAuth)\n",
    "        audio_feat = get_audio_features(song_name, artist_name)\n",
    "    if audio_feat:\n",
    "        song_artist_features.append((song_name, artist_name, audio_feat))"
   ]
  },
  {
   "cell_type": "code",
   "execution_count": 15,
   "metadata": {},
   "outputs": [
    {
     "name": "stdout",
     "output_type": "stream",
     "text": [
      "('thats_what_i_like', 'bruno_mars', [0.853, 0.56, -4.961, 0.0406, 0.013, 0, 0.0944, 0.86, 134.066])\n",
      "('humble', 'kendrick_lamar', [0.908, 0.621, -6.638, 0.102, 0.000282, 5.39e-05, 0.0958, 0.421, 150.011])\n",
      "('skeletons', 'keshi', [0.719, 0.265, -12.782, 0.0754, 0.296, 0.0865, 0.108, 0.273, 80.021])\n",
      "('slow_dancing_in_the_dark', 'joji', [0.515, 0.479, -7.458, 0.0261, 0.544, 0.00598, 0.191, 0.284, 88.964])\n",
      "('lite_spots', 'kaytranada', [0.884, 0.549, -11.683, 0.471, 0.0346, 0.0698, 0.112, 0.394, 120.461])\n",
      "('woman', 'doja_cat', [0.824, 0.764, -4.175, 0.0854, 0.0888, 0.00294, 0.117, 0.881, 107.998])\n",
      "('get_up', 'ciara', [0.964, 0.595, -6.887, 0.109, 0.0248, 5.14e-06, 0.0405, 0.629, 128.593])\n",
      "('throwin_elbows', 'excision', [0.574, 0.94, -3.038, 0.569, 0.00317, 0.0431, 0.113, 0.362, 149.988])\n",
      "('power', 'little mix', [0.566, 0.855, -4.016, 0.211, 0.0372, 0.000157, 0.181, 0.517, 172.966])\n",
      "('peaches', 'justin_bieber', [0.677, 0.696, -6.181, 0.119, 0.321, 0, 0.42, 0.464, 90.03])\n",
      "('knife_talk', 'drake', [0.849, 0.424, -9.579, 0.324, 0.0635, 0, 0.0834, 0.153, 145.887])\n",
      "('fool_around', 'yas', [0.635, 0.476, -10.101, 0.0639, 0.685, 9.14e-06, 0.14, 0.26, 119.738])\n",
      "('levitating', 'dua_lipa', [0.702, 0.825, -3.787, 0.0601, 0.00883, 0, 0.0674, 0.915, 102.977])\n",
      "('easily', 'bruno_major', [0.772, 0.256, -8.545, 0.0481, 0.491, 0.00612, 0.144, 0.357, 118.902])\n",
      "('good_4_u', 'olivia_rodrigo', [0.563, 0.664, -5.044, 0.154, 0.335, 0, 0.0849, 0.688, 166.928])\n",
      "('all_i_wanna_do', 'jay_park', [0.613, 0.668, -6.867, 0.267, 0.245, 0, 0.0735, 0.509, 96.176])\n",
      "('sad_girlz_luv_money', 'amaarae', [0.87, 0.523, -8.052, 0.0602, 0.433, 2.07e-05, 0.113, 0.319, 110.02])\n",
      "('tik_tok', 'kesha', [0.755, 0.837, -2.718, 0.142, 0.0991, 0, 0.289, 0.714, 120.028])\n",
      "('ymca', 'village_people', [0.715, 0.951, -6.488, 0.132, 0.152, 0, 0.302, 0.671, 126.643])\n",
      "('intuition_interlude', 'jamie_foxx', [0.676, 0.412, -11.343, 0.0913, 0.0424, 8.91e-06, 0.0609, 0.565, 168.05])\n",
      "('kilby_girl', 'the_backseat_lovers', [0.329, 0.444, -9.973, 0.0417, 0.0578, 0.0352, 0.113, 0.225, 162.279])\n",
      "('party_rock_anthem', 'lmfao', [0.75, 0.727, -4.21, 0.142, 0.0189, 0, 0.266, 0.359, 129.993])\n",
      "('frozen', 'sabrina_claudio', [0.486, 0.419, -6.415, 0.0563, 0.741, 6.59e-05, 0.096, 0.227, 119.065])\n",
      "('weve_never_met_but_can_we_have_a_cup_of_coffee_or_something', 'in_love_with_a_ghost', [0.349, 0.214, -18.295, 0.0538, 0.926, 0.121, 0.321, 0.236, 201.128])\n",
      "('piano_song', 'eryn_allen_kane', [0.469, 0.518, -6.206, 0.0526, 0.669, 8.59e-06, 0.0869, 0.163, 59.381])\n",
      "('tacones_rojos', 'sebastian_yatra', [0.748, 0.856, -3.517, 0.0348, 0.0824, 0, 0.142, 0.927, 123.031])\n",
      "('violin_concerto_no_1_in_a_minor', 'johann_sebastian_bach', [0.22, 0.0423, -23.714, 0.0452, 0.914, 0.003, 0.121, 0.0776, 105.398])\n",
      "('candy', 'baekhyun', [0.649, 0.767, -3.838, 0.0455, 0.24, 0, 0.0929, 0.608, 149.918])\n",
      "('whisper', 'boombox_cartel', [0.505, 0.848, -2.174, 0.0823, 0.168, 0.000121, 0.116, 0.281, 150.04])\n",
      "('in_the_name_of_love', 'martin_garrix', [0.501, 0.519, -5.88, 0.0409, 0.109, 0, 0.454, 0.168, 133.99])\n",
      "('brukka', 'jack_and_lewis', [0.847, 0.889, -5.71, 0.108, 0.0143, 0.83, 0.0548, 0.213, 104.945])\n",
      "('bum_bum_tam_tam', 'mc_fioti', [0.896, 0.675, -3.908, 0.124, 0.346, 8.11e-06, 0.262, 0.659, 131.999])\n",
      "('partition', 'beyonce', [0.412, 0.441, -11.523, 0.291, 0.0296, 0.0726, 0.306, 0.174, 185.571])\n",
      "('greedy', 'ariana_grande', [0.619, 0.705, -5.335, 0.099, 0.0323, 0, 0.0919, 0.844, 109.975])\n",
      "('idontwannabeyouanymore', 'billie_eilish', [0.483, 0.412, -8.461, 0.0402, 0.737, 0, 0.116, 0.247, 170.163])\n",
      "('lost_in_japan', 'shawn_mendes', [0.713, 0.738, -6.784, 0.374, 0.255, 0, 0.106, 0.425, 105.027])\n",
      "('the_saints', 'andy_mineo', [0.763, 0.913, -5.129, 0.295, 0.0425, 0, 0.0848, 0.839, 144.067])\n",
      "('dynamite', 'bts', [0.746, 0.765, -4.41, 0.0993, 0.0112, 0, 0.0936, 0.737, 114.044])\n"
     ]
    }
   ],
   "source": [
    "for i in range(len(song_artist_features)):\n",
    "    print(song_artist_features[i])"
   ]
  },
  {
   "cell_type": "code",
   "execution_count": 16,
   "metadata": {},
   "outputs": [],
   "source": [
    "def find_diffs(feature1, feature2):\n",
    "    diffs = 0\n",
    "    for i in range(len(feature1)):\n",
    "        diffs += abs(feature1[i] - feature2[i])\n",
    "    return diffs\n",
    "\n",
    "def find_diffs_sq(feature1, feature2):\n",
    "    diffs = 0\n",
    "    for i in range(len(feature1)):\n",
    "        diffs += (feature1[i] - feature2[i])**2\n",
    "    return diffs\n",
    "\n",
    "def find_closest_song(features):\n",
    "    \n",
    "    minDistance = sum(abs(features))\n",
    "    minIndex = 0\n",
    "        \n",
    "    for i in range(len(song_artist_features)):\n",
    "        diffs = find_diffs(features, song_artist_features[i][2])\n",
    "        if diffs < minDistance:\n",
    "            minDistance = diffs\n",
    "            minIndex = i\n",
    "            \n",
    "    return minIndex\n",
    "        "
   ]
  },
  {
   "cell_type": "code",
   "execution_count": 17,
   "metadata": {},
   "outputs": [
    {
     "name": "stdout",
     "output_type": "stream",
     "text": [
      "dynamite bts\n"
     ]
    }
   ],
   "source": [
    "maxDiffs = find_closest_song(ypred_test[0])\n",
    "print(song_artist_features[i][0], song_artist_features[i][1])"
   ]
  },
  {
   "cell_type": "code",
   "execution_count": 18,
   "metadata": {},
   "outputs": [],
   "source": [
    "def show_recommendations_for_song(song):\n",
    "    results = sp.recommendations(seed_tracks=[song['id']], limit=5)\n",
    "    print(\"Recommendations:\")\n",
    "    for track in results['tracks']:\n",
    "        print(\"TRACK: \",track['name'], \" - \",track['artists'][0]['name'])\n",
    "        sp.add_to_queue(track['uri'])"
   ]
  },
  {
   "cell_type": "code",
   "execution_count": 19,
   "metadata": {},
   "outputs": [
    {
     "name": "stdout",
     "output_type": "stream",
     "text": [
      "Recommendations:\n",
      "TRACK:  FANCY  -  TWICE\n",
      "TRACK:  double take  -  dhruv\n",
      "TRACK:  DRUM GO DUM  -  K/DA\n",
      "TRACK:  WIN - \"The God of HighSchool\" ED  -  CIX\n",
      "TRACK:  Plot Twist  -  NIKI\n"
     ]
    }
   ],
   "source": [
    "song = get_song(song_artist_features[i][0], song_artist_features[i][1])\n",
    "if song:\n",
    "    show_recommendations_for_song(song)"
   ]
  },
  {
   "cell_type": "code",
   "execution_count": null,
   "metadata": {},
   "outputs": [],
   "source": []
  }
 ],
 "metadata": {
  "kernelspec": {
   "display_name": "Python 3",
   "language": "python",
   "name": "python3"
  },
  "language_info": {
   "codemirror_mode": {
    "name": "ipython",
    "version": 3
   },
   "file_extension": ".py",
   "mimetype": "text/x-python",
   "name": "python",
   "nbconvert_exporter": "python",
   "pygments_lexer": "ipython3",
   "version": "3.6.10"
  }
 },
 "nbformat": 4,
 "nbformat_minor": 4
}
