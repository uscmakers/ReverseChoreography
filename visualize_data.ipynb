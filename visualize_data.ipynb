{
 "cells": [
  {
   "cell_type": "code",
   "execution_count": 39,
   "id": "1ba5fdb5",
   "metadata": {},
   "outputs": [],
   "source": [
    "import pandas as pd\n",
    "import numpy as np\n",
    "from os.path import exists\n",
    "import re\n",
    "import matplotlib.pyplot as plt\n",
    "import scipy\n",
    "import scipy.fftpack"
   ]
  },
  {
   "cell_type": "code",
   "execution_count": 3,
   "id": "8dc19619",
   "metadata": {},
   "outputs": [],
   "source": [
    "## FUNCTIONS ##\n",
    "\n",
    "#Parse String\n",
    "def split_ele(x):\n",
    "    a = np.array(re.findall(r\"[-+]?\\d*\\.?\\d+|[-+]?\\d+\", x))\n",
    "    return a.astype(float)"
   ]
  },
  {
   "cell_type": "code",
   "execution_count": 77,
   "id": "b2634468",
   "metadata": {},
   "outputs": [
    {
     "data": {
      "text/html": [
       "<div>\n",
       "<style scoped>\n",
       "    .dataframe tbody tr th:only-of-type {\n",
       "        vertical-align: middle;\n",
       "    }\n",
       "\n",
       "    .dataframe tbody tr th {\n",
       "        vertical-align: top;\n",
       "    }\n",
       "\n",
       "    .dataframe thead th {\n",
       "        text-align: right;\n",
       "    }\n",
       "</style>\n",
       "<table border=\"1\" class=\"dataframe\">\n",
       "  <thead>\n",
       "    <tr style=\"text-align: right;\">\n",
       "      <th></th>\n",
       "      <th>Unnamed: 0</th>\n",
       "      <th>NOSE_POS</th>\n",
       "      <th>LEFT_SHOULDER_POS</th>\n",
       "      <th>RIGHT_SHOULDER_POS</th>\n",
       "      <th>LEFT_WRIST_POS</th>\n",
       "      <th>RIGHT_WRIST_POS</th>\n",
       "      <th>LEFT_HIP_POS</th>\n",
       "      <th>RIGHT_HIP_POS</th>\n",
       "      <th>LEFT_ANKLE_POS</th>\n",
       "      <th>RIGHT_ANKLE_POS</th>\n",
       "    </tr>\n",
       "  </thead>\n",
       "  <tbody>\n",
       "    <tr>\n",
       "      <th>0</th>\n",
       "      <td>0</td>\n",
       "      <td>213.381699</td>\n",
       "      <td>244.265244</td>\n",
       "      <td>206.625870</td>\n",
       "      <td>301.012817</td>\n",
       "      <td>153.060181</td>\n",
       "      <td>223.611298</td>\n",
       "      <td>205.660904</td>\n",
       "      <td>217.740295</td>\n",
       "      <td>208.053726</td>\n",
       "    </tr>\n",
       "    <tr>\n",
       "      <th>1</th>\n",
       "      <td>1</td>\n",
       "      <td>214.766037</td>\n",
       "      <td>244.159561</td>\n",
       "      <td>210.795227</td>\n",
       "      <td>212.151489</td>\n",
       "      <td>197.055908</td>\n",
       "      <td>240.847183</td>\n",
       "      <td>218.901627</td>\n",
       "      <td>273.500031</td>\n",
       "      <td>215.859756</td>\n",
       "    </tr>\n",
       "    <tr>\n",
       "      <th>2</th>\n",
       "      <td>2</td>\n",
       "      <td>217.504623</td>\n",
       "      <td>244.898819</td>\n",
       "      <td>212.480850</td>\n",
       "      <td>216.969711</td>\n",
       "      <td>209.956314</td>\n",
       "      <td>246.949081</td>\n",
       "      <td>223.389465</td>\n",
       "      <td>296.385803</td>\n",
       "      <td>216.768860</td>\n",
       "    </tr>\n",
       "    <tr>\n",
       "      <th>3</th>\n",
       "      <td>3</td>\n",
       "      <td>224.494904</td>\n",
       "      <td>253.955185</td>\n",
       "      <td>219.220016</td>\n",
       "      <td>217.188583</td>\n",
       "      <td>195.602844</td>\n",
       "      <td>256.973938</td>\n",
       "      <td>233.663956</td>\n",
       "      <td>304.314819</td>\n",
       "      <td>215.144394</td>\n",
       "    </tr>\n",
       "    <tr>\n",
       "      <th>4</th>\n",
       "      <td>4</td>\n",
       "      <td>224.494904</td>\n",
       "      <td>253.955185</td>\n",
       "      <td>219.220016</td>\n",
       "      <td>217.188583</td>\n",
       "      <td>195.602844</td>\n",
       "      <td>256.973938</td>\n",
       "      <td>233.663956</td>\n",
       "      <td>304.314819</td>\n",
       "      <td>215.144394</td>\n",
       "    </tr>\n",
       "    <tr>\n",
       "      <th>...</th>\n",
       "      <td>...</td>\n",
       "      <td>...</td>\n",
       "      <td>...</td>\n",
       "      <td>...</td>\n",
       "      <td>...</td>\n",
       "      <td>...</td>\n",
       "      <td>...</td>\n",
       "      <td>...</td>\n",
       "      <td>...</td>\n",
       "      <td>...</td>\n",
       "    </tr>\n",
       "    <tr>\n",
       "      <th>80</th>\n",
       "      <td>80</td>\n",
       "      <td>248.507935</td>\n",
       "      <td>269.913422</td>\n",
       "      <td>224.440247</td>\n",
       "      <td>259.460632</td>\n",
       "      <td>251.285187</td>\n",
       "      <td>270.268890</td>\n",
       "      <td>243.026474</td>\n",
       "      <td>309.114899</td>\n",
       "      <td>222.695953</td>\n",
       "    </tr>\n",
       "    <tr>\n",
       "      <th>81</th>\n",
       "      <td>81</td>\n",
       "      <td>252.163437</td>\n",
       "      <td>267.646057</td>\n",
       "      <td>222.467270</td>\n",
       "      <td>253.409760</td>\n",
       "      <td>249.345993</td>\n",
       "      <td>265.515991</td>\n",
       "      <td>238.061630</td>\n",
       "      <td>308.076233</td>\n",
       "      <td>222.470535</td>\n",
       "    </tr>\n",
       "    <tr>\n",
       "      <th>82</th>\n",
       "      <td>82</td>\n",
       "      <td>252.163437</td>\n",
       "      <td>267.646057</td>\n",
       "      <td>222.467270</td>\n",
       "      <td>253.409760</td>\n",
       "      <td>249.345993</td>\n",
       "      <td>265.515991</td>\n",
       "      <td>238.061630</td>\n",
       "      <td>308.076233</td>\n",
       "      <td>222.470535</td>\n",
       "    </tr>\n",
       "    <tr>\n",
       "      <th>83</th>\n",
       "      <td>83</td>\n",
       "      <td>249.083603</td>\n",
       "      <td>257.356750</td>\n",
       "      <td>217.315979</td>\n",
       "      <td>247.430511</td>\n",
       "      <td>233.849258</td>\n",
       "      <td>252.258362</td>\n",
       "      <td>227.290878</td>\n",
       "      <td>305.134216</td>\n",
       "      <td>222.265396</td>\n",
       "    </tr>\n",
       "    <tr>\n",
       "      <th>84</th>\n",
       "      <td>84</td>\n",
       "      <td>242.782257</td>\n",
       "      <td>251.603912</td>\n",
       "      <td>211.963120</td>\n",
       "      <td>243.500717</td>\n",
       "      <td>229.120132</td>\n",
       "      <td>242.109894</td>\n",
       "      <td>218.414749</td>\n",
       "      <td>294.948975</td>\n",
       "      <td>221.665833</td>\n",
       "    </tr>\n",
       "  </tbody>\n",
       "</table>\n",
       "<p>85 rows × 10 columns</p>\n",
       "</div>"
      ],
      "text/plain": [
       "    Unnamed: 0    NOSE_POS  LEFT_SHOULDER_POS  RIGHT_SHOULDER_POS  \\\n",
       "0            0  213.381699         244.265244          206.625870   \n",
       "1            1  214.766037         244.159561          210.795227   \n",
       "2            2  217.504623         244.898819          212.480850   \n",
       "3            3  224.494904         253.955185          219.220016   \n",
       "4            4  224.494904         253.955185          219.220016   \n",
       "..         ...         ...                ...                 ...   \n",
       "80          80  248.507935         269.913422          224.440247   \n",
       "81          81  252.163437         267.646057          222.467270   \n",
       "82          82  252.163437         267.646057          222.467270   \n",
       "83          83  249.083603         257.356750          217.315979   \n",
       "84          84  242.782257         251.603912          211.963120   \n",
       "\n",
       "    LEFT_WRIST_POS  RIGHT_WRIST_POS  LEFT_HIP_POS  RIGHT_HIP_POS  \\\n",
       "0       301.012817       153.060181    223.611298     205.660904   \n",
       "1       212.151489       197.055908    240.847183     218.901627   \n",
       "2       216.969711       209.956314    246.949081     223.389465   \n",
       "3       217.188583       195.602844    256.973938     233.663956   \n",
       "4       217.188583       195.602844    256.973938     233.663956   \n",
       "..             ...              ...           ...            ...   \n",
       "80      259.460632       251.285187    270.268890     243.026474   \n",
       "81      253.409760       249.345993    265.515991     238.061630   \n",
       "82      253.409760       249.345993    265.515991     238.061630   \n",
       "83      247.430511       233.849258    252.258362     227.290878   \n",
       "84      243.500717       229.120132    242.109894     218.414749   \n",
       "\n",
       "    LEFT_ANKLE_POS  RIGHT_ANKLE_POS  \n",
       "0       217.740295       208.053726  \n",
       "1       273.500031       215.859756  \n",
       "2       296.385803       216.768860  \n",
       "3       304.314819       215.144394  \n",
       "4       304.314819       215.144394  \n",
       "..             ...              ...  \n",
       "80      309.114899       222.695953  \n",
       "81      308.076233       222.470535  \n",
       "82      308.076233       222.470535  \n",
       "83      305.134216       222.265396  \n",
       "84      294.948975       221.665833  \n",
       "\n",
       "[85 rows x 10 columns]"
      ]
     },
     "execution_count": 77,
     "metadata": {},
     "output_type": "execute_result"
    }
   ],
   "source": [
    "df = pd.read_csv(\"preprocessed/1_0_humble_kendrick_lamar_XDATA.csv\")\n",
    "df"
   ]
  },
  {
   "cell_type": "code",
   "execution_count": 78,
   "id": "fb223501",
   "metadata": {},
   "outputs": [
    {
     "data": {
      "text/plain": [
       "<matplotlib.collections.PathCollection at 0x24ffef11bb0>"
      ]
     },
     "execution_count": 78,
     "metadata": {},
     "output_type": "execute_result"
    },
    {
     "data": {
      "image/png": "[encoded data removed]",
      "text/plain": [
       "<Figure size 432x288 with 1 Axes>"
      ]
     },
     "metadata": {
      "needs_background": "light"
     },
     "output_type": "display_data"
    }
   ],
   "source": [
    "plt.scatter(df.index, df[\"NOSE_POS\"])"
   ]
  },
  {
   "cell_type": "code",
   "execution_count": 59,
   "id": "3e72dcad",
   "metadata": {},
   "outputs": [
    {
     "data": {
      "image/png": "[encoded data removed]",
      "text/plain": [
       "<Figure size 432x288 with 1 Axes>"
      ]
     },
     "metadata": {
      "needs_background": "light"
     },
     "output_type": "display_data"
    }
   ],
   "source": [
    "N = 85\n",
    "T = 25.0 / N\n",
    "x = np.linspace(0.0, N*T, N)\n",
    "yf = scipy.fftpack.fft(df[\"NOSE_POS\"].to_numpy())\n",
    "\n",
    "xf = np.linspace(0.0, 1.0/(2.0*T), N//2)\n",
    "plt.plot(xf, 2.0/N * np.abs(yf[:N//2]))\n",
    "plt.show()"
   ]
  },
  {
   "cell_type": "code",
   "execution_count": 26,
   "id": "2e825c30",
   "metadata": {},
   "outputs": [
    {
     "data": {
      "text/plain": [
       "<matplotlib.collections.PathCollection at 0x24ffa61fd00>"
      ]
     },
     "execution_count": 26,
     "metadata": {},
     "output_type": "execute_result"
    },
    {
     "data": {
      "image/png": "[encoded data removed]",
      "text/plain": [
       "<Figure size 432x288 with 1 Axes>"
      ]
     },
     "metadata": {
      "needs_background": "light"
     },
     "output_type": "display_data"
    }
   ],
   "source": [
    "plt.scatter(df.iloc[:,0], df[\"LEFT_SHOULDER_POS\"])"
   ]
  },
  {
   "cell_type": "code",
   "execution_count": 55,
   "id": "f46207ff",
   "metadata": {},
   "outputs": [
    {
     "data": {
      "image/png": "[encoded data removed]",
      "text/plain": [
       "<Figure size 432x288 with 1 Axes>"
      ]
     },
     "metadata": {
      "needs_background": "light"
     },
     "output_type": "display_data"
    }
   ],
   "source": [
    "N = 85\n",
    "T = 6.0 / N\n",
    "x = np.linspace(0.0, N*T, N)\n",
    "yf = scipy.fftpack.fft(df[\"LEFT_SHOULDER_POS\"].to_numpy())\n",
    "\n",
    "xf = np.linspace(0.0, 1.0/(2.0*T), N//2)\n",
    "plt.plot(xf, 2.0/N * np.abs(yf[:N//2]))\n",
    "plt.show()"
   ]
  },
  {
   "cell_type": "code",
   "execution_count": 27,
   "id": "86e1d115",
   "metadata": {},
   "outputs": [
    {
     "data": {
      "text/plain": [
       "<matplotlib.collections.PathCollection at 0x24ff94d9490>"
      ]
     },
     "execution_count": 27,
     "metadata": {},
     "output_type": "execute_result"
    },
    {
     "data": {
      "image/png": "[encoded data removed]",
      "text/plain": [
       "<Figure size 432x288 with 1 Axes>"
      ]
     },
     "metadata": {
      "needs_background": "light"
     },
     "output_type": "display_data"
    }
   ],
   "source": [
    "plt.scatter(df.iloc[:,0], df[\"RIGHT_SHOULDER_POS\"])"
   ]
  },
  {
   "cell_type": "code",
   "execution_count": 56,
   "id": "fe124153",
   "metadata": {},
   "outputs": [
    {
     "data": {
      "image/png": "[encoded data removed]",
      "text/plain": [
       "<Figure size 432x288 with 1 Axes>"
      ]
     },
     "metadata": {
      "needs_background": "light"
     },
     "output_type": "display_data"
    }
   ],
   "source": [
    "N = 85\n",
    "T = 6.0 / N\n",
    "x = np.linspace(0.0, N*T, N)\n",
    "yf = scipy.fftpack.fft(df[\"RIGHT_SHOULDER_POS\"].to_numpy())\n",
    "\n",
    "xf = np.linspace(0.0, 1.0/(2.0*T), N//2)\n",
    "plt.plot(xf, 2.0/N * np.abs(yf[:N//2]))\n",
    "plt.show()"
   ]
  },
  {
   "cell_type": "code",
   "execution_count": 28,
   "id": "a82ca631",
   "metadata": {},
   "outputs": [
    {
     "data": {
      "text/plain": [
       "<matplotlib.collections.PathCollection at 0x24ffa597280>"
      ]
     },
     "execution_count": 28,
     "metadata": {},
     "output_type": "execute_result"
    },
    {
     "data": {
      "image/png": "[encoded data removed]",
      "text/plain": [
       "<Figure size 432x288 with 1 Axes>"
      ]
     },
     "metadata": {
      "needs_background": "light"
     },
     "output_type": "display_data"
    }
   ],
   "source": [
    "plt.scatter(df.iloc[:,0], df[\"LEFT_WRIST_POS\"])"
   ]
  },
  {
   "cell_type": "code",
   "execution_count": 29,
   "id": "a3519b4f",
   "metadata": {},
   "outputs": [
    {
     "data": {
      "text/plain": [
       "<matplotlib.collections.PathCollection at 0x24ff94391f0>"
      ]
     },
     "execution_count": 29,
     "metadata": {},
     "output_type": "execute_result"
    },
    {
     "data": {
      "image/png": "[encoded data removed]",
      "text/plain": [
       "<Figure size 432x288 with 1 Axes>"
      ]
     },
     "metadata": {
      "needs_background": "light"
     },
     "output_type": "display_data"
    }
   ],
   "source": [
    "plt.scatter(df.iloc[:,0], df[\"RIGHT_WRIST_POS\"])"
   ]
  },
  {
   "cell_type": "code",
   "execution_count": 30,
   "id": "83e8dcdb",
   "metadata": {},
   "outputs": [
    {
     "data": {
      "text/plain": [
       "<matplotlib.collections.PathCollection at 0x24ff711ffa0>"
      ]
     },
     "execution_count": 30,
     "metadata": {},
     "output_type": "execute_result"
    },
    {
     "data": {
      "image/png": "[encoded data removed]",
      "text/plain": [
       "<Figure size 432x288 with 1 Axes>"
      ]
     },
     "metadata": {
      "needs_background": "light"
     },
     "output_type": "display_data"
    }
   ],
   "source": [
    "plt.scatter(df.iloc[:,0], df[\"LEFT_HIP_POS\"])"
   ]
  },
  {
   "cell_type": "code",
   "execution_count": 57,
   "id": "487b1bff",
   "metadata": {},
   "outputs": [
    {
     "data": {
      "image/png": "[encoded data removed]",
      "text/plain": [
       "<Figure size 432x288 with 1 Axes>"
      ]
     },
     "metadata": {
      "needs_background": "light"
     },
     "output_type": "display_data"
    }
   ],
   "source": [
    "N = 85\n",
    "T = 6.0 / N\n",
    "x = np.linspace(0.0, N*T, N)\n",
    "yf = scipy.fftpack.fft(df[\"LEFT_HIP_POS\"].to_numpy())\n",
    "\n",
    "xf = np.linspace(0.0, 1.0/(2.0*T), N//2)\n",
    "plt.plot(xf, 2.0/N * np.abs(yf[:N//2]))\n",
    "plt.show()"
   ]
  },
  {
   "cell_type": "code",
   "execution_count": 31,
   "id": "864122d3",
   "metadata": {},
   "outputs": [
    {
     "data": {
      "text/plain": [
       "<matplotlib.collections.PathCollection at 0x24ffa6a3640>"
      ]
     },
     "execution_count": 31,
     "metadata": {},
     "output_type": "execute_result"
    },
    {
     "data": {
      "image/png": "[encoded data removed]",
      "text/plain": [
       "<Figure size 432x288 with 1 Axes>"
      ]
     },
     "metadata": {
      "needs_background": "light"
     },
     "output_type": "display_data"
    }
   ],
   "source": [
    "plt.scatter(df.iloc[:,0], df[\"RIGHT_HIP_POS\"])"
   ]
  },
  {
   "cell_type": "code",
   "execution_count": 32,
   "id": "7febdac1",
   "metadata": {},
   "outputs": [
    {
     "data": {
      "text/plain": [
       "<matplotlib.collections.PathCollection at 0x24ffa6fe910>"
      ]
     },
     "execution_count": 32,
     "metadata": {},
     "output_type": "execute_result"
    },
    {
     "data": {
      "image/png": "[encoded data removed]",
      "text/plain": [
       "<Figure size 432x288 with 1 Axes>"
      ]
     },
     "metadata": {
      "needs_background": "light"
     },
     "output_type": "display_data"
    }
   ],
   "source": [
    "plt.scatter(df.iloc[:,0], df[\"LEFT_ANKLE_POS\"])"
   ]
  },
  {
   "cell_type": "code",
   "execution_count": 33,
   "id": "115bbf0a",
   "metadata": {},
   "outputs": [
    {
     "data": {
      "text/plain": [
       "<matplotlib.collections.PathCollection at 0x24ffa75fdf0>"
      ]
     },
     "execution_count": 33,
     "metadata": {},
     "output_type": "execute_result"
    },
    {
     "data": {
      "image/png": "[encoded data removed]",
      "text/plain": [
       "<Figure size 432x288 with 1 Axes>"
      ]
     },
     "metadata": {
      "needs_background": "light"
     },
     "output_type": "display_data"
    }
   ],
   "source": [
    "plt.scatter(df.iloc[:,0], df[\"RIGHT_ANKLE_POS\"])"
   ]
  }
 ],
 "metadata": {
  "kernelspec": {
   "display_name": "Python 3",
   "language": "python",
   "name": "python3"
  },
  "language_info": {
   "codemirror_mode": {
    "name": "ipython",
    "version": 3
   },
   "file_extension": ".py",
   "mimetype": "text/x-python",
   "name": "python",
   "nbconvert_exporter": "python",
   "pygments_lexer": "ipython3",
   "version": "3.8.12"
  }
 },
 "nbformat": 4,
 "nbformat_minor": 5
}
