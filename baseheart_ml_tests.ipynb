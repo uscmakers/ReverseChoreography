{
 "cells": [
  {
   "cell_type": "code",
   "execution_count": 1,
   "id": "aa11c6bf",
   "metadata": {},
   "outputs": [],
   "source": [
    "import pandas as pd\n",
    "from sklearn.linear_model import LinearRegression\n",
    "from sklearn.model_selection import train_test_split\n",
    "from sklearn.metrics import r2_score\n",
    "from sklearn.neighbors import KNeighborsRegressor\n",
    "from sklearn.svm import LinearSVR\n",
    "from sklearn.multioutput import MultiOutputRegressor\n",
    "from sklearn.linear_model import Ridge\n",
    "from sklearn.linear_model import ElasticNet\n",
    "from sklearn.linear_model import Lasso\n",
    "from sklearn.linear_model import BayesianRidge\n",
    "from sklearn.linear_model import MultiTaskLasso\n",
    "from sklearn.linear_model import MultiTaskElasticNet\n",
    "from sklearn.ensemble import AdaBoostRegressor\n",
    "from sklearn.tree import DecisionTreeRegressor\n",
    "from sklearn.feature_selection import RFECV\n",
    "from sklearn.ensemble import RandomForestRegressor\n",
    "from sklearn.feature_selection import SelectFromModel\n",
    "from sklearn.linear_model import LogisticRegression\n",
    "from sklearn.feature_selection import SequentialFeatureSelector"
   ]
  },
  {
   "cell_type": "code",
   "execution_count": 2,
   "id": "67bce870",
   "metadata": {},
   "outputs": [],
   "source": [
    "data = pd.read_csv(\"parser_output/extracted_features_split_upsample_3_7.csv\")\n",
    "data = data.dropna()"
   ]
  },
  {
   "cell_type": "code",
   "execution_count": 3,
   "id": "28d520c6",
   "metadata": {},
   "outputs": [
    {
     "data": {
      "text/html": [
       "<div>\n",
       "<style scoped>\n",
       "    .dataframe tbody tr th:only-of-type {\n",
       "        vertical-align: middle;\n",
       "    }\n",
       "\n",
       "    .dataframe tbody tr th {\n",
       "        vertical-align: top;\n",
       "    }\n",
       "\n",
       "    .dataframe thead th {\n",
       "        text-align: right;\n",
       "    }\n",
       "</style>\n",
       "<table border=\"1\" class=\"dataframe\">\n",
       "  <thead>\n",
       "    <tr style=\"text-align: right;\">\n",
       "      <th></th>\n",
       "      <th>Unnamed: 0</th>\n",
       "      <th>Unnamed: 0.1</th>\n",
       "      <th>LEFT_EYE_OUTER_POS_x__abs_energy</th>\n",
       "      <th>LEFT_EYE_OUTER_POS_x__kurtosis</th>\n",
       "      <th>LEFT_EYE_OUTER_POS_x__mean</th>\n",
       "      <th>LEFT_EYE_OUTER_POS_x__standard_deviation</th>\n",
       "      <th>LEFT_EYE_OUTER_POS_x__maximum</th>\n",
       "      <th>LEFT_EYE_OUTER_POS_x__autocorrelation__lag_1</th>\n",
       "      <th>LEFT_EYE_OUTER_POS_x__approximate_entropy__m_20__r_0.05</th>\n",
       "      <th>LEFT_EYE_OUTER_POS_x__c3__lag_1</th>\n",
       "      <th>...</th>\n",
       "      <th>key</th>\n",
       "      <th>loudness</th>\n",
       "      <th>mode</th>\n",
       "      <th>speechiness</th>\n",
       "      <th>acousticness</th>\n",
       "      <th>instrumentalness</th>\n",
       "      <th>liveness</th>\n",
       "      <th>valence</th>\n",
       "      <th>tempo</th>\n",
       "      <th>time_signature</th>\n",
       "    </tr>\n",
       "  </thead>\n",
       "  <tbody>\n",
       "    <tr>\n",
       "      <th>0</th>\n",
       "      <td>0</td>\n",
       "      <td>1.000000</td>\n",
       "      <td>3.857886e+06</td>\n",
       "      <td>-0.500597</td>\n",
       "      <td>229.468110</td>\n",
       "      <td>30.432529</td>\n",
       "      <td>289.405029</td>\n",
       "      <td>0.989740</td>\n",
       "      <td>0.019048</td>\n",
       "      <td>1.261402e+07</td>\n",
       "      <td>...</td>\n",
       "      <td>1.000000</td>\n",
       "      <td>-11.683000</td>\n",
       "      <td>1.000000</td>\n",
       "      <td>0.471000</td>\n",
       "      <td>0.034600</td>\n",
       "      <td>0.069800</td>\n",
       "      <td>0.112000</td>\n",
       "      <td>0.394000</td>\n",
       "      <td>120.461000</td>\n",
       "      <td>4.000000</td>\n",
       "    </tr>\n",
       "    <tr>\n",
       "      <th>1</th>\n",
       "      <td>1</td>\n",
       "      <td>1.000000</td>\n",
       "      <td>3.855130e+06</td>\n",
       "      <td>-0.483415</td>\n",
       "      <td>231.389670</td>\n",
       "      <td>27.503200</td>\n",
       "      <td>295.279053</td>\n",
       "      <td>0.958905</td>\n",
       "      <td>0.019418</td>\n",
       "      <td>1.296885e+07</td>\n",
       "      <td>...</td>\n",
       "      <td>1.000000</td>\n",
       "      <td>-11.683000</td>\n",
       "      <td>1.000000</td>\n",
       "      <td>0.471000</td>\n",
       "      <td>0.034600</td>\n",
       "      <td>0.069800</td>\n",
       "      <td>0.112000</td>\n",
       "      <td>0.394000</td>\n",
       "      <td>120.461000</td>\n",
       "      <td>4.000000</td>\n",
       "    </tr>\n",
       "    <tr>\n",
       "      <th>2</th>\n",
       "      <td>2</td>\n",
       "      <td>1.000000</td>\n",
       "      <td>2.988295e+06</td>\n",
       "      <td>-1.564327</td>\n",
       "      <td>204.247290</td>\n",
       "      <td>19.279543</td>\n",
       "      <td>231.353989</td>\n",
       "      <td>0.984248</td>\n",
       "      <td>0.019418</td>\n",
       "      <td>8.737854e+06</td>\n",
       "      <td>...</td>\n",
       "      <td>1.000000</td>\n",
       "      <td>-11.683000</td>\n",
       "      <td>1.000000</td>\n",
       "      <td>0.471000</td>\n",
       "      <td>0.034600</td>\n",
       "      <td>0.069800</td>\n",
       "      <td>0.112000</td>\n",
       "      <td>0.394000</td>\n",
       "      <td>120.461000</td>\n",
       "      <td>4.000000</td>\n",
       "    </tr>\n",
       "    <tr>\n",
       "      <th>3</th>\n",
       "      <td>3</td>\n",
       "      <td>1.000000</td>\n",
       "      <td>5.229781e+06</td>\n",
       "      <td>5.505027</td>\n",
       "      <td>261.979358</td>\n",
       "      <td>13.406352</td>\n",
       "      <td>288.362549</td>\n",
       "      <td>0.740990</td>\n",
       "      <td>0.017700</td>\n",
       "      <td>1.824470e+07</td>\n",
       "      <td>...</td>\n",
       "      <td>1.000000</td>\n",
       "      <td>-4.961000</td>\n",
       "      <td>1.000000</td>\n",
       "      <td>0.040600</td>\n",
       "      <td>0.013000</td>\n",
       "      <td>0.000000</td>\n",
       "      <td>0.094400</td>\n",
       "      <td>0.860000</td>\n",
       "      <td>134.066000</td>\n",
       "      <td>4.000000</td>\n",
       "    </tr>\n",
       "    <tr>\n",
       "      <th>4</th>\n",
       "      <td>4</td>\n",
       "      <td>1.000000</td>\n",
       "      <td>3.804110e+06</td>\n",
       "      <td>-1.651266</td>\n",
       "      <td>221.742280</td>\n",
       "      <td>29.739429</td>\n",
       "      <td>267.973663</td>\n",
       "      <td>0.980201</td>\n",
       "      <td>0.017700</td>\n",
       "      <td>1.132808e+07</td>\n",
       "      <td>...</td>\n",
       "      <td>1.000000</td>\n",
       "      <td>-4.961000</td>\n",
       "      <td>1.000000</td>\n",
       "      <td>0.040600</td>\n",
       "      <td>0.013000</td>\n",
       "      <td>0.000000</td>\n",
       "      <td>0.094400</td>\n",
       "      <td>0.860000</td>\n",
       "      <td>134.066000</td>\n",
       "      <td>4.000000</td>\n",
       "    </tr>\n",
       "    <tr>\n",
       "      <th>...</th>\n",
       "      <td>...</td>\n",
       "      <td>...</td>\n",
       "      <td>...</td>\n",
       "      <td>...</td>\n",
       "      <td>...</td>\n",
       "      <td>...</td>\n",
       "      <td>...</td>\n",
       "      <td>...</td>\n",
       "      <td>...</td>\n",
       "      <td>...</td>\n",
       "      <td>...</td>\n",
       "      <td>...</td>\n",
       "      <td>...</td>\n",
       "      <td>...</td>\n",
       "      <td>...</td>\n",
       "      <td>...</td>\n",
       "      <td>...</td>\n",
       "      <td>...</td>\n",
       "      <td>...</td>\n",
       "      <td>...</td>\n",
       "      <td>...</td>\n",
       "    </tr>\n",
       "    <tr>\n",
       "      <th>2731</th>\n",
       "      <td>2731</td>\n",
       "      <td>1.004642</td>\n",
       "      <td>7.675702e+06</td>\n",
       "      <td>-0.428105</td>\n",
       "      <td>308.844848</td>\n",
       "      <td>23.695611</td>\n",
       "      <td>354.531617</td>\n",
       "      <td>0.934245</td>\n",
       "      <td>0.017084</td>\n",
       "      <td>2.980213e+07</td>\n",
       "      <td>...</td>\n",
       "      <td>1.008252</td>\n",
       "      <td>-8.051201</td>\n",
       "      <td>0.005007</td>\n",
       "      <td>0.068594</td>\n",
       "      <td>0.435179</td>\n",
       "      <td>0.004971</td>\n",
       "      <td>0.121395</td>\n",
       "      <td>0.323141</td>\n",
       "      <td>110.026127</td>\n",
       "      <td>4.008011</td>\n",
       "    </tr>\n",
       "    <tr>\n",
       "      <th>2732</th>\n",
       "      <td>2732</td>\n",
       "      <td>1.002437</td>\n",
       "      <td>6.251677e+06</td>\n",
       "      <td>-0.295028</td>\n",
       "      <td>278.277536</td>\n",
       "      <td>26.620029</td>\n",
       "      <td>340.216678</td>\n",
       "      <td>0.970170</td>\n",
       "      <td>0.019958</td>\n",
       "      <td>2.204985e+07</td>\n",
       "      <td>...</td>\n",
       "      <td>1.002027</td>\n",
       "      <td>-8.045381</td>\n",
       "      <td>0.004618</td>\n",
       "      <td>0.063657</td>\n",
       "      <td>0.442621</td>\n",
       "      <td>0.003104</td>\n",
       "      <td>0.117410</td>\n",
       "      <td>0.325989</td>\n",
       "      <td>110.020294</td>\n",
       "      <td>4.003570</td>\n",
       "    </tr>\n",
       "    <tr>\n",
       "      <th>2733</th>\n",
       "      <td>2733</td>\n",
       "      <td>1.004247</td>\n",
       "      <td>6.060124e+06</td>\n",
       "      <td>-0.447082</td>\n",
       "      <td>262.692938</td>\n",
       "      <td>38.227663</td>\n",
       "      <td>341.837440</td>\n",
       "      <td>0.977176</td>\n",
       "      <td>0.021461</td>\n",
       "      <td>1.917193e+07</td>\n",
       "      <td>...</td>\n",
       "      <td>2.006992</td>\n",
       "      <td>-2.717840</td>\n",
       "      <td>0.006860</td>\n",
       "      <td>0.147851</td>\n",
       "      <td>0.099990</td>\n",
       "      <td>0.004684</td>\n",
       "      <td>0.294257</td>\n",
       "      <td>0.717822</td>\n",
       "      <td>120.028234</td>\n",
       "      <td>4.001796</td>\n",
       "    </tr>\n",
       "    <tr>\n",
       "      <th>2734</th>\n",
       "      <td>2734</td>\n",
       "      <td>1.005076</td>\n",
       "      <td>7.223848e+06</td>\n",
       "      <td>-1.371630</td>\n",
       "      <td>289.099607</td>\n",
       "      <td>37.607511</td>\n",
       "      <td>361.694106</td>\n",
       "      <td>1.004394</td>\n",
       "      <td>0.019952</td>\n",
       "      <td>2.539007e+07</td>\n",
       "      <td>...</td>\n",
       "      <td>2.000985</td>\n",
       "      <td>-2.712416</td>\n",
       "      <td>0.004196</td>\n",
       "      <td>0.147485</td>\n",
       "      <td>0.103294</td>\n",
       "      <td>0.007745</td>\n",
       "      <td>0.294076</td>\n",
       "      <td>0.721028</td>\n",
       "      <td>120.036452</td>\n",
       "      <td>4.007549</td>\n",
       "    </tr>\n",
       "    <tr>\n",
       "      <th>2735</th>\n",
       "      <td>2735</td>\n",
       "      <td>1.001248</td>\n",
       "      <td>8.786658e+06</td>\n",
       "      <td>0.073066</td>\n",
       "      <td>319.942215</td>\n",
       "      <td>31.805304</td>\n",
       "      <td>392.931740</td>\n",
       "      <td>0.980145</td>\n",
       "      <td>0.023761</td>\n",
       "      <td>3.394232e+07</td>\n",
       "      <td>...</td>\n",
       "      <td>2.008643</td>\n",
       "      <td>-2.709658</td>\n",
       "      <td>0.009932</td>\n",
       "      <td>0.145579</td>\n",
       "      <td>0.101468</td>\n",
       "      <td>0.005916</td>\n",
       "      <td>0.295465</td>\n",
       "      <td>0.716712</td>\n",
       "      <td>120.036279</td>\n",
       "      <td>4.001005</td>\n",
       "    </tr>\n",
       "  </tbody>\n",
       "</table>\n",
       "<p>2502 rows × 518 columns</p>\n",
       "</div>"
      ],
      "text/plain": [
       "      Unnamed: 0  Unnamed: 0.1  LEFT_EYE_OUTER_POS_x__abs_energy  \\\n",
       "0              0      1.000000                      3.857886e+06   \n",
       "1              1      1.000000                      3.855130e+06   \n",
       "2              2      1.000000                      2.988295e+06   \n",
       "3              3      1.000000                      5.229781e+06   \n",
       "4              4      1.000000                      3.804110e+06   \n",
       "...          ...           ...                               ...   \n",
       "2731        2731      1.004642                      7.675702e+06   \n",
       "2732        2732      1.002437                      6.251677e+06   \n",
       "2733        2733      1.004247                      6.060124e+06   \n",
       "2734        2734      1.005076                      7.223848e+06   \n",
       "2735        2735      1.001248                      8.786658e+06   \n",
       "\n",
       "      LEFT_EYE_OUTER_POS_x__kurtosis  LEFT_EYE_OUTER_POS_x__mean  \\\n",
       "0                          -0.500597                  229.468110   \n",
       "1                          -0.483415                  231.389670   \n",
       "2                          -1.564327                  204.247290   \n",
       "3                           5.505027                  261.979358   \n",
       "4                          -1.651266                  221.742280   \n",
       "...                              ...                         ...   \n",
       "2731                       -0.428105                  308.844848   \n",
       "2732                       -0.295028                  278.277536   \n",
       "2733                       -0.447082                  262.692938   \n",
       "2734                       -1.371630                  289.099607   \n",
       "2735                        0.073066                  319.942215   \n",
       "\n",
       "      LEFT_EYE_OUTER_POS_x__standard_deviation  LEFT_EYE_OUTER_POS_x__maximum  \\\n",
       "0                                    30.432529                     289.405029   \n",
       "1                                    27.503200                     295.279053   \n",
       "2                                    19.279543                     231.353989   \n",
       "3                                    13.406352                     288.362549   \n",
       "4                                    29.739429                     267.973663   \n",
       "...                                        ...                            ...   \n",
       "2731                                 23.695611                     354.531617   \n",
       "2732                                 26.620029                     340.216678   \n",
       "2733                                 38.227663                     341.837440   \n",
       "2734                                 37.607511                     361.694106   \n",
       "2735                                 31.805304                     392.931740   \n",
       "\n",
       "      LEFT_EYE_OUTER_POS_x__autocorrelation__lag_1  \\\n",
       "0                                         0.989740   \n",
       "1                                         0.958905   \n",
       "2                                         0.984248   \n",
       "3                                         0.740990   \n",
       "4                                         0.980201   \n",
       "...                                            ...   \n",
       "2731                                      0.934245   \n",
       "2732                                      0.970170   \n",
       "2733                                      0.977176   \n",
       "2734                                      1.004394   \n",
       "2735                                      0.980145   \n",
       "\n",
       "      LEFT_EYE_OUTER_POS_x__approximate_entropy__m_20__r_0.05  \\\n",
       "0                                              0.019048         \n",
       "1                                              0.019418         \n",
       "2                                              0.019418         \n",
       "3                                              0.017700         \n",
       "4                                              0.017700         \n",
       "...                                                 ...         \n",
       "2731                                           0.017084         \n",
       "2732                                           0.019958         \n",
       "2733                                           0.021461         \n",
       "2734                                           0.019952         \n",
       "2735                                           0.023761         \n",
       "\n",
       "      LEFT_EYE_OUTER_POS_x__c3__lag_1  ...       key   loudness      mode  \\\n",
       "0                        1.261402e+07  ...  1.000000 -11.683000  1.000000   \n",
       "1                        1.296885e+07  ...  1.000000 -11.683000  1.000000   \n",
       "2                        8.737854e+06  ...  1.000000 -11.683000  1.000000   \n",
       "3                        1.824470e+07  ...  1.000000  -4.961000  1.000000   \n",
       "4                        1.132808e+07  ...  1.000000  -4.961000  1.000000   \n",
       "...                               ...  ...       ...        ...       ...   \n",
       "2731                     2.980213e+07  ...  1.008252  -8.051201  0.005007   \n",
       "2732                     2.204985e+07  ...  1.002027  -8.045381  0.004618   \n",
       "2733                     1.917193e+07  ...  2.006992  -2.717840  0.006860   \n",
       "2734                     2.539007e+07  ...  2.000985  -2.712416  0.004196   \n",
       "2735                     3.394232e+07  ...  2.008643  -2.709658  0.009932   \n",
       "\n",
       "      speechiness  acousticness  instrumentalness  liveness   valence  \\\n",
       "0        0.471000      0.034600          0.069800  0.112000  0.394000   \n",
       "1        0.471000      0.034600          0.069800  0.112000  0.394000   \n",
       "2        0.471000      0.034600          0.069800  0.112000  0.394000   \n",
       "3        0.040600      0.013000          0.000000  0.094400  0.860000   \n",
       "4        0.040600      0.013000          0.000000  0.094400  0.860000   \n",
       "...           ...           ...               ...       ...       ...   \n",
       "2731     0.068594      0.435179          0.004971  0.121395  0.323141   \n",
       "2732     0.063657      0.442621          0.003104  0.117410  0.325989   \n",
       "2733     0.147851      0.099990          0.004684  0.294257  0.717822   \n",
       "2734     0.147485      0.103294          0.007745  0.294076  0.721028   \n",
       "2735     0.145579      0.101468          0.005916  0.295465  0.716712   \n",
       "\n",
       "           tempo  time_signature  \n",
       "0     120.461000        4.000000  \n",
       "1     120.461000        4.000000  \n",
       "2     120.461000        4.000000  \n",
       "3     134.066000        4.000000  \n",
       "4     134.066000        4.000000  \n",
       "...          ...             ...  \n",
       "2731  110.026127        4.008011  \n",
       "2732  110.020294        4.003570  \n",
       "2733  120.028234        4.001796  \n",
       "2734  120.036452        4.007549  \n",
       "2735  120.036279        4.001005  \n",
       "\n",
       "[2502 rows x 518 columns]"
      ]
     },
     "execution_count": 3,
     "metadata": {},
     "output_type": "execute_result"
    }
   ],
   "source": [
    "data"
   ]
  },
  {
   "cell_type": "code",
   "execution_count": 4,
   "id": "c5728312",
   "metadata": {},
   "outputs": [],
   "source": [
    "#LOOK INTO https://scikit-learn.org/stable/modules/classes.html#module-sklearn.feature_selection\n",
    "#multi output regressor? - https://scikit-learn.org/stable/modules/generated/sklearn.multioutput.MultiOutputRegressor.html#sklearn.multioutput.MultiOutputRegressor"
   ]
  },
  {
   "cell_type": "code",
   "execution_count": 5,
   "id": "99fc5e77",
   "metadata": {},
   "outputs": [],
   "source": [
    "y = data[['danceability', 'energy', 'loudness', 'speechiness', 'acousticness', 'instrumentalness', 'liveness', 'valence', 'tempo']]\n",
    "x = data[data.columns[1:len(data.columns)-12]]\n",
    "\n",
    "X_train, X_test, y_train, y_test = train_test_split(x, y, test_size=0.7)"
   ]
  },
  {
   "cell_type": "markdown",
   "id": "5b7a89bb",
   "metadata": {},
   "source": [
    "## REGRESSION MODELS"
   ]
  },
  {
   "cell_type": "code",
   "execution_count": 6,
   "id": "d4391a94",
   "metadata": {},
   "outputs": [
    {
     "name": "stdout",
     "output_type": "stream",
     "text": [
      "LINEAR REGRESSION\n",
      "Train Score: \n",
      "0.9994764226496835\n",
      "Test Score: \n",
      "-5.51940911220583\n"
     ]
    }
   ],
   "source": [
    "#lINEAR REGRESSION - \n",
    "reg_model = LinearRegression().fit(X_train, y_train)\n",
    "ypred_train = reg_model.predict(X_train)\n",
    "ypred_test = reg_model.predict(X_test)\n",
    "print(\"LINEAR REGRESSION\")\n",
    "print(\"Train Score: \")\n",
    "print(r2_score(y_train, ypred_train))\n",
    "print(\"Test Score: \")\n",
    "print(r2_score(y_test, ypred_test))"
   ]
  },
  {
   "cell_type": "code",
   "execution_count": 7,
   "id": "b29eeb3c",
   "metadata": {},
   "outputs": [
    {
     "data": {
      "text/plain": [
       "array([[-9.14510920e-02,  1.75460408e-06,  2.31178484e-02, ...,\n",
       "        -2.86239200e-02,  1.13438778e-04, -5.70807997e-02],\n",
       "       [ 1.66505745e-01,  2.12211578e-06, -1.77939721e-02, ...,\n",
       "         9.63794904e-02,  1.71317142e-04, -2.63161032e-02],\n",
       "       [ 1.92446959e+00,  1.49677494e-04, -2.04016824e+00, ...,\n",
       "         1.64661414e+00,  1.00035644e-03, -4.25843599e-01],\n",
       "       ...,\n",
       "       [-2.08683992e-02,  9.97416213e-07,  2.38268319e-02, ...,\n",
       "        -8.63798383e-02,  6.78940002e-05, -1.24822436e-02],\n",
       "       [-3.02667438e-03,  1.30586607e-05, -1.02610224e-01, ...,\n",
       "         2.09929876e-01,  6.18505410e-05, -6.45375730e-02],\n",
       "       [ 2.49119650e+01, -4.22212379e-04,  6.53738024e+00, ...,\n",
       "        -1.34494708e+01,  3.75534744e-04, -8.95305956e+00]])"
      ]
     },
     "execution_count": 7,
     "metadata": {},
     "output_type": "execute_result"
    }
   ],
   "source": [
    "reg_model.coef_"
   ]
  },
  {
   "cell_type": "code",
   "execution_count": 8,
   "id": "223440e7",
   "metadata": {},
   "outputs": [
    {
     "name": "stdout",
     "output_type": "stream",
     "text": [
      "KNN REGRESSION\n",
      "Train Score: \n",
      "0.6168490651699591\n",
      "Test Score: \n",
      "0.33852604154769433\n"
     ]
    }
   ],
   "source": [
    "#K NEIGHBORS REGRESSOR - https://scikit-learn.org/stable/modules/generated/sklearn.neighbors.KNeighborsRegressor.html#sklearn.neighbors.KNeighborsRegressor\n",
    "knn_model = KNeighborsRegressor().fit(X_train, y_train)\n",
    "ypred_train = knn_model.predict(X_train)\n",
    "ypred_test = knn_model.predict(X_test)\n",
    "print(\"KNN REGRESSION\")\n",
    "print(\"Train Score: \")\n",
    "print(r2_score(y_train, ypred_train))\n",
    "print(\"Test Score: \")\n",
    "print(r2_score(y_test, ypred_test))"
   ]
  },
  {
   "cell_type": "code",
   "execution_count": 9,
   "id": "de1367d8",
   "metadata": {},
   "outputs": [
    {
     "name": "stderr",
     "output_type": "stream",
     "text": [
      "C:\\Users\\mbase\\anaconda3\\lib\\site-packages\\sklearn\\svm\\_base.py:1206: ConvergenceWarning: Liblinear failed to converge, increase the number of iterations.\n",
      "  warnings.warn(\n",
      "C:\\Users\\mbase\\anaconda3\\lib\\site-packages\\sklearn\\svm\\_base.py:1206: ConvergenceWarning: Liblinear failed to converge, increase the number of iterations.\n",
      "  warnings.warn(\n",
      "C:\\Users\\mbase\\anaconda3\\lib\\site-packages\\sklearn\\svm\\_base.py:1206: ConvergenceWarning: Liblinear failed to converge, increase the number of iterations.\n",
      "  warnings.warn(\n",
      "C:\\Users\\mbase\\anaconda3\\lib\\site-packages\\sklearn\\svm\\_base.py:1206: ConvergenceWarning: Liblinear failed to converge, increase the number of iterations.\n",
      "  warnings.warn(\n",
      "C:\\Users\\mbase\\anaconda3\\lib\\site-packages\\sklearn\\svm\\_base.py:1206: ConvergenceWarning: Liblinear failed to converge, increase the number of iterations.\n",
      "  warnings.warn(\n",
      "C:\\Users\\mbase\\anaconda3\\lib\\site-packages\\sklearn\\svm\\_base.py:1206: ConvergenceWarning: Liblinear failed to converge, increase the number of iterations.\n",
      "  warnings.warn(\n",
      "C:\\Users\\mbase\\anaconda3\\lib\\site-packages\\sklearn\\svm\\_base.py:1206: ConvergenceWarning: Liblinear failed to converge, increase the number of iterations.\n",
      "  warnings.warn(\n",
      "C:\\Users\\mbase\\anaconda3\\lib\\site-packages\\sklearn\\svm\\_base.py:1206: ConvergenceWarning: Liblinear failed to converge, increase the number of iterations.\n",
      "  warnings.warn(\n"
     ]
    },
    {
     "name": "stdout",
     "output_type": "stream",
     "text": [
      "SVR REGRESSION\n",
      "Train Score: \n",
      "-9.081277465943712\n",
      "Test Score: \n",
      "-8.639838236485978\n"
     ]
    },
    {
     "name": "stderr",
     "output_type": "stream",
     "text": [
      "C:\\Users\\mbase\\anaconda3\\lib\\site-packages\\sklearn\\svm\\_base.py:1206: ConvergenceWarning: Liblinear failed to converge, increase the number of iterations.\n",
      "  warnings.warn(\n"
     ]
    }
   ],
   "source": [
    "#LINEAR SVR - https://scikit-learn.org/stable/modules/generated/sklearn.svm.LinearSVR.html#sklearn.svm.LinearSVR\n",
    "svr_model = MultiOutputRegressor(LinearSVR()).fit(X_train, y_train)\n",
    "ypred_train = svr_model.predict(X_train)\n",
    "ypred_test = svr_model.predict(X_test)\n",
    "print(\"SVR REGRESSION\")\n",
    "print(\"Train Score: \")\n",
    "print(r2_score(y_train, ypred_train))\n",
    "print(\"Test Score: \")\n",
    "print(r2_score(y_test, ypred_test))"
   ]
  },
  {
   "cell_type": "code",
   "execution_count": 10,
   "id": "8498f9c2",
   "metadata": {},
   "outputs": [
    {
     "name": "stdout",
     "output_type": "stream",
     "text": [
      "RIDGE REGRESSION\n",
      "Train Score: \n",
      "0.9876494868774385\n",
      "Test Score: \n",
      "-1.2819446119337092\n"
     ]
    },
    {
     "name": "stderr",
     "output_type": "stream",
     "text": [
      "C:\\Users\\mbase\\anaconda3\\lib\\site-packages\\sklearn\\linear_model\\_ridge.py:156: LinAlgWarning: Ill-conditioned matrix (rcond=1.31894e-19): result may not be accurate.\n",
      "  return linalg.solve(A, Xy, sym_pos=True, overwrite_a=True).T\n"
     ]
    }
   ],
   "source": [
    "#RIDGE REGRESSOR - https://scikit-learn.org/stable/modules/generated/sklearn.linear_model.Ridge.html#sklearn.linear_model.Ridge\n",
    "ridge_model = Ridge().fit(X_train, y_train)\n",
    "ypred_train = ridge_model.predict(X_train)\n",
    "ypred_test = ridge_model.predict(X_test)\n",
    "print(\"RIDGE REGRESSION\")\n",
    "print(\"Train Score: \")\n",
    "print(r2_score(y_train, ypred_train))\n",
    "print(\"Test Score: \")\n",
    "print(r2_score(y_test, ypred_test))"
   ]
  },
  {
   "cell_type": "code",
   "execution_count": 11,
   "id": "c1465639",
   "metadata": {},
   "outputs": [
    {
     "name": "stderr",
     "output_type": "stream",
     "text": [
      "C:\\Users\\mbase\\anaconda3\\lib\\site-packages\\sklearn\\linear_model\\_coordinate_descent.py:647: ConvergenceWarning: Objective did not converge. You might want to increase the number of iterations, check the scale of the features or consider increasing regularisation. Duality gap: 5.202e+00, tolerance: 1.490e-03\n",
      "  model = cd_fast.enet_coordinate_descent(\n",
      "C:\\Users\\mbase\\anaconda3\\lib\\site-packages\\sklearn\\linear_model\\_coordinate_descent.py:647: ConvergenceWarning: Objective did not converge. You might want to increase the number of iterations, check the scale of the features or consider increasing regularisation. Duality gap: 8.300e+00, tolerance: 2.644e-03\n",
      "  model = cd_fast.enet_coordinate_descent(\n",
      "C:\\Users\\mbase\\anaconda3\\lib\\site-packages\\sklearn\\linear_model\\_coordinate_descent.py:647: ConvergenceWarning: Objective did not converge. You might want to increase the number of iterations, check the scale of the features or consider increasing regularisation. Duality gap: 1.652e+03, tolerance: 5.571e-01\n",
      "  model = cd_fast.enet_coordinate_descent(\n",
      "C:\\Users\\mbase\\anaconda3\\lib\\site-packages\\sklearn\\linear_model\\_coordinate_descent.py:647: ConvergenceWarning: Objective did not converge. You might want to increase the number of iterations, check the scale of the features or consider increasing regularisation. Duality gap: 5.643e+00, tolerance: 1.783e-03\n",
      "  model = cd_fast.enet_coordinate_descent(\n",
      "C:\\Users\\mbase\\anaconda3\\lib\\site-packages\\sklearn\\linear_model\\_coordinate_descent.py:647: ConvergenceWarning: Objective did not converge. You might want to increase the number of iterations, check the scale of the features or consider increasing regularisation. Duality gap: 1.074e+01, tolerance: 3.064e-03\n",
      "  model = cd_fast.enet_coordinate_descent(\n",
      "C:\\Users\\mbase\\anaconda3\\lib\\site-packages\\sklearn\\linear_model\\_coordinate_descent.py:647: ConvergenceWarning: Objective did not converge. You might want to increase the number of iterations, check the scale of the features or consider increasing regularisation. Duality gap: 1.944e-01, tolerance: 4.980e-05\n",
      "  model = cd_fast.enet_coordinate_descent(\n",
      "C:\\Users\\mbase\\anaconda3\\lib\\site-packages\\sklearn\\linear_model\\_coordinate_descent.py:647: ConvergenceWarning: Objective did not converge. You might want to increase the number of iterations, check the scale of the features or consider increasing regularisation. Duality gap: 2.327e+00, tolerance: 6.491e-04\n",
      "  model = cd_fast.enet_coordinate_descent(\n",
      "C:\\Users\\mbase\\anaconda3\\lib\\site-packages\\sklearn\\linear_model\\_coordinate_descent.py:647: ConvergenceWarning: Objective did not converge. You might want to increase the number of iterations, check the scale of the features or consider increasing regularisation. Duality gap: 1.301e+01, tolerance: 4.069e-03\n",
      "  model = cd_fast.enet_coordinate_descent(\n"
     ]
    },
    {
     "name": "stdout",
     "output_type": "stream",
     "text": [
      "ELASTIC REGRESSION\n",
      "Train Score: \n",
      "0.3957212948273475\n",
      "Test Score: \n",
      "0.1555783427282448\n"
     ]
    },
    {
     "name": "stderr",
     "output_type": "stream",
     "text": [
      "C:\\Users\\mbase\\anaconda3\\lib\\site-packages\\sklearn\\linear_model\\_coordinate_descent.py:647: ConvergenceWarning: Objective did not converge. You might want to increase the number of iterations, check the scale of the features or consider increasing regularisation. Duality gap: 8.077e+04, tolerance: 4.161e+01\n",
      "  model = cd_fast.enet_coordinate_descent(\n"
     ]
    }
   ],
   "source": [
    "#ELASTIC NET - https://scikit-learn.org/stable/modules/generated/sklearn.linear_model.ElasticNet.html#sklearn.linear_model.ElasticNet\n",
    "elastic_model = ElasticNet().fit(X_train, y_train)\n",
    "ypred_train = elastic_model.predict(X_train)\n",
    "ypred_test = elastic_model.predict(X_test)\n",
    "print(\"ELASTIC REGRESSION\")\n",
    "print(\"Train Score: \")\n",
    "print(r2_score(y_train, ypred_train))\n",
    "print(\"Test Score: \")\n",
    "print(r2_score(y_test, ypred_test))"
   ]
  },
  {
   "cell_type": "code",
   "execution_count": 12,
   "id": "6f5e0cc4",
   "metadata": {},
   "outputs": [
    {
     "name": "stderr",
     "output_type": "stream",
     "text": [
      "C:\\Users\\mbase\\anaconda3\\lib\\site-packages\\sklearn\\linear_model\\_coordinate_descent.py:647: ConvergenceWarning: Objective did not converge. You might want to increase the number of iterations, check the scale of the features or consider increasing regularisation. Duality gap: 5.329e+00, tolerance: 1.490e-03\n",
      "  model = cd_fast.enet_coordinate_descent(\n",
      "C:\\Users\\mbase\\anaconda3\\lib\\site-packages\\sklearn\\linear_model\\_coordinate_descent.py:647: ConvergenceWarning: Objective did not converge. You might want to increase the number of iterations, check the scale of the features or consider increasing regularisation. Duality gap: 8.464e+00, tolerance: 2.644e-03\n",
      "  model = cd_fast.enet_coordinate_descent(\n",
      "C:\\Users\\mbase\\anaconda3\\lib\\site-packages\\sklearn\\linear_model\\_coordinate_descent.py:647: ConvergenceWarning: Objective did not converge. You might want to increase the number of iterations, check the scale of the features or consider increasing regularisation. Duality gap: 1.775e+03, tolerance: 5.571e-01\n",
      "  model = cd_fast.enet_coordinate_descent(\n",
      "C:\\Users\\mbase\\anaconda3\\lib\\site-packages\\sklearn\\linear_model\\_coordinate_descent.py:647: ConvergenceWarning: Objective did not converge. You might want to increase the number of iterations, check the scale of the features or consider increasing regularisation. Duality gap: 5.786e+00, tolerance: 1.783e-03\n",
      "  model = cd_fast.enet_coordinate_descent(\n",
      "C:\\Users\\mbase\\anaconda3\\lib\\site-packages\\sklearn\\linear_model\\_coordinate_descent.py:647: ConvergenceWarning: Objective did not converge. You might want to increase the number of iterations, check the scale of the features or consider increasing regularisation. Duality gap: 1.099e+01, tolerance: 3.064e-03\n",
      "  model = cd_fast.enet_coordinate_descent(\n",
      "C:\\Users\\mbase\\anaconda3\\lib\\site-packages\\sklearn\\linear_model\\_coordinate_descent.py:647: ConvergenceWarning: Objective did not converge. You might want to increase the number of iterations, check the scale of the features or consider increasing regularisation. Duality gap: 1.973e-01, tolerance: 4.980e-05\n",
      "  model = cd_fast.enet_coordinate_descent(\n",
      "C:\\Users\\mbase\\anaconda3\\lib\\site-packages\\sklearn\\linear_model\\_coordinate_descent.py:647: ConvergenceWarning: Objective did not converge. You might want to increase the number of iterations, check the scale of the features or consider increasing regularisation. Duality gap: 2.376e+00, tolerance: 6.491e-04\n",
      "  model = cd_fast.enet_coordinate_descent(\n",
      "C:\\Users\\mbase\\anaconda3\\lib\\site-packages\\sklearn\\linear_model\\_coordinate_descent.py:647: ConvergenceWarning: Objective did not converge. You might want to increase the number of iterations, check the scale of the features or consider increasing regularisation. Duality gap: 1.341e+01, tolerance: 4.069e-03\n",
      "  model = cd_fast.enet_coordinate_descent(\n"
     ]
    },
    {
     "name": "stdout",
     "output_type": "stream",
     "text": [
      "LASSO REGRESSION\n",
      "Train Score: \n",
      "0.3721484084400373\n",
      "Test Score: \n",
      "0.1382728645861503\n"
     ]
    },
    {
     "name": "stderr",
     "output_type": "stream",
     "text": [
      "C:\\Users\\mbase\\anaconda3\\lib\\site-packages\\sklearn\\linear_model\\_coordinate_descent.py:647: ConvergenceWarning: Objective did not converge. You might want to increase the number of iterations, check the scale of the features or consider increasing regularisation. Duality gap: 8.973e+04, tolerance: 4.161e+01\n",
      "  model = cd_fast.enet_coordinate_descent(\n"
     ]
    }
   ],
   "source": [
    "#LASSO - https://scikit-learn.org/stable/modules/generated/sklearn.linear_model.Lasso.html#sklearn.linear_model.Lasso\n",
    "lasso_model = Lasso().fit(X_train, y_train)\n",
    "ypred_train = lasso_model.predict(X_train)\n",
    "ypred_test = lasso_model.predict(X_test)\n",
    "print(\"LASSO REGRESSION\")\n",
    "print(\"Train Score: \")\n",
    "print(r2_score(y_train, ypred_train))\n",
    "print(\"Test Score: \")\n",
    "print(r2_score(y_test, ypred_test))"
   ]
  },
  {
   "cell_type": "code",
   "execution_count": 13,
   "id": "dcbff8dc",
   "metadata": {
    "scrolled": true
   },
   "outputs": [
    {
     "name": "stdout",
     "output_type": "stream",
     "text": [
      "BAYESIAN RIDGE REGRESSION\n",
      "Train Score: \n",
      "0.8496209819051166\n",
      "Test Score: \n",
      "-2.5694630739770643\n"
     ]
    }
   ],
   "source": [
    "#Bayesian Ridge Regression? https://scikit-learn.org/stable/modules/generated/sklearn.linear_model.BayesianRidge.html#sklearn.linear_model.BayesianRidge\n",
    "bayesianRidge_model = MultiOutputRegressor(BayesianRidge()).fit(X_train, y_train)\n",
    "ypred_train = bayesianRidge_model.predict(X_train)\n",
    "ypred_test = bayesianRidge_model.predict(X_test)\n",
    "print(\"BAYESIAN RIDGE REGRESSION\")\n",
    "print(\"Train Score: \")\n",
    "print(r2_score(y_train, ypred_train))\n",
    "print(\"Test Score: \")\n",
    "print(r2_score(y_test, ypred_test))"
   ]
  },
  {
   "cell_type": "code",
   "execution_count": 14,
   "id": "d0969478",
   "metadata": {},
   "outputs": [
    {
     "name": "stdout",
     "output_type": "stream",
     "text": [
      "MULTITASK LASSO REGRESSION\n",
      "Train Score: \n",
      "0.577199690770277\n",
      "Test Score: \n",
      "0.22167817908498902\n"
     ]
    },
    {
     "name": "stderr",
     "output_type": "stream",
     "text": [
      "C:\\Users\\mbase\\anaconda3\\lib\\site-packages\\sklearn\\linear_model\\_coordinate_descent.py:2442: ConvergenceWarning: Objective did not converge. You might want to increase the number of iterations. Duality gap: 91140.17334686927, tolerance: 42.177948960376554\n",
      "  ) = cd_fast.enet_coordinate_descent_multi_task(\n"
     ]
    }
   ],
   "source": [
    "#Multitask Lasso? https://scikit-learn.org/stable/modules/generated/sklearn.linear_model.MultiTaskLasso.html#sklearn.linear_model.MultiTaskLasso\n",
    "mtLasso_model = MultiTaskLasso().fit(X_train, y_train)\n",
    "ypred_train = mtLasso_model.predict(X_train)\n",
    "ypred_test = mtLasso_model.predict(X_test)\n",
    "print(\"MULTITASK LASSO REGRESSION\")\n",
    "print(\"Train Score: \")\n",
    "print(r2_score(y_train, ypred_train))\n",
    "print(\"Test Score: \")\n",
    "print(r2_score(y_test, ypred_test))"
   ]
  },
  {
   "cell_type": "code",
   "execution_count": 15,
   "id": "00818b25",
   "metadata": {},
   "outputs": [
    {
     "name": "stdout",
     "output_type": "stream",
     "text": [
      "MULTITASK ELASTIC NET REGRESSION\n",
      "Train Score: \n",
      "0.629272283417518\n",
      "Test Score: \n",
      "0.2924714596090772\n"
     ]
    },
    {
     "name": "stderr",
     "output_type": "stream",
     "text": [
      "C:\\Users\\mbase\\anaconda3\\lib\\site-packages\\sklearn\\linear_model\\_coordinate_descent.py:2442: ConvergenceWarning: Objective did not converge. You might want to increase the number of iterations. Duality gap: 82044.1853213711, tolerance: 42.177948960376554\n",
      "  ) = cd_fast.enet_coordinate_descent_multi_task(\n"
     ]
    }
   ],
   "source": [
    "#Multitask Elastic Net? https://scikit-learn.org/stable/modules/generated/sklearn.linear_model.MultiTaskElasticNet.html#sklearn.linear_model.MultiTaskElasticNet\n",
    "mtNet_model = MultiTaskElasticNet().fit(X_train, y_train)\n",
    "ypred_train = mtNet_model.predict(X_train)\n",
    "ypred_test = mtNet_model.predict(X_test)\n",
    "print(\"MULTITASK ELASTIC NET REGRESSION\")\n",
    "print(\"Train Score: \")\n",
    "print(r2_score(y_train, ypred_train))\n",
    "print(\"Test Score: \")\n",
    "print(r2_score(y_test, ypred_test))"
   ]
  },
  {
   "cell_type": "code",
   "execution_count": 16,
   "id": "bd94d606",
   "metadata": {},
   "outputs": [
    {
     "name": "stdout",
     "output_type": "stream",
     "text": [
      "ADABOOST REGRESSION\n",
      "Train Score: \n",
      "0.6374115208010065\n",
      "Test Score: \n",
      "0.5209873563141857\n"
     ]
    }
   ],
   "source": [
    "#AdaBoost - https://scikit-learn.org/stable/modules/generated/sklearn.ensemble.AdaBoostRegressor.html#sklearn.ensemble.AdaBoostRegressor\n",
    "adaBoost_model = MultiOutputRegressor(AdaBoostRegressor()).fit(X_train, y_train)\n",
    "ypred_train = adaBoost_model.predict(X_train)\n",
    "ypred_test = adaBoost_model.predict(X_test)\n",
    "print(\"ADABOOST REGRESSION\")\n",
    "print(\"Train Score: \")\n",
    "print(r2_score(y_train, ypred_train))\n",
    "print(\"Test Score: \")\n",
    "print(r2_score(y_test, ypred_test))"
   ]
  },
  {
   "cell_type": "code",
   "execution_count": 17,
   "id": "8ec8a94f",
   "metadata": {},
   "outputs": [
    {
     "name": "stdout",
     "output_type": "stream",
     "text": [
      "TREE REGRESSION\n",
      "Train Score: \n",
      "1.0\n",
      "Test Score: \n",
      "0.6453481441347708\n"
     ]
    }
   ],
   "source": [
    "#Tree - https://scikit-learn.org/stable/modules/generated/sklearn.tree.DecisionTreeRegressor.html#sklearn.tree.DecisionTreeRegressor\n",
    "tree_model = DecisionTreeRegressor().fit(X_train, y_train)\n",
    "ypred_train = tree_model.predict(X_train)\n",
    "ypred_test = tree_model.predict(X_test)\n",
    "print(\"TREE REGRESSION\")\n",
    "print(\"Train Score: \")\n",
    "print(r2_score(y_train, ypred_train))\n",
    "print(\"Test Score: \")\n",
    "print(r2_score(y_test, ypred_test))"
   ]
  },
  {
   "cell_type": "code",
   "execution_count": 18,
   "id": "e776f020",
   "metadata": {},
   "outputs": [
    {
     "name": "stdout",
     "output_type": "stream",
     "text": [
      "RANDOM FOREST REGRESSION\n",
      "Train Score: \n",
      "0.9675624403068073\n",
      "Test Score: \n",
      "0.769842798183174\n"
     ]
    }
   ],
   "source": [
    "#Random Forest - https://scikit-learn.org/stable/modules/generated/sklearn.ensemble.RandomForestRegressor.html#sklearn.ensemble.RandomForestRegressor\n",
    "rf_model = RandomForestRegressor().fit(X_train, y_train)\n",
    "ypred_train = rf_model.predict(X_train)\n",
    "ypred_test = rf_model.predict(X_test)\n",
    "print(\"RANDOM FOREST REGRESSION\")\n",
    "print(\"Train Score: \")\n",
    "print(r2_score(y_train, ypred_train))\n",
    "print(\"Test Score: \")\n",
    "print(r2_score(y_test, ypred_test))"
   ]
  },
  {
   "cell_type": "markdown",
   "id": "891cb79f",
   "metadata": {},
   "source": [
    "# FEATURE SELECTION"
   ]
  },
  {
   "cell_type": "code",
   "execution_count": 19,
   "id": "c861b420",
   "metadata": {},
   "outputs": [
    {
     "name": "stderr",
     "output_type": "stream",
     "text": [
      "C:\\Users\\mbase\\anaconda3\\lib\\site-packages\\sklearn\\base.py:445: UserWarning: X does not have valid feature names, but RFECV was fitted with feature names\n",
      "  warnings.warn(\n"
     ]
    }
   ],
   "source": [
    "selected_linreg = RFECV(reg_model, step = 10, cv = 5)\n",
    "selected_linreg = selected_linreg.fit(X_train, y_train)"
   ]
  },
  {
   "cell_type": "code",
   "execution_count": 20,
   "id": "454df710",
   "metadata": {
    "scrolled": true
   },
   "outputs": [
    {
     "name": "stderr",
     "output_type": "stream",
     "text": [
      "C:\\Users\\mbase\\anaconda3\\lib\\site-packages\\sklearn\\base.py:445: UserWarning: X does not have valid feature names, but RFECV was fitted with feature names\n",
      "  warnings.warn(\n"
     ]
    },
    {
     "name": "stdout",
     "output_type": "stream",
     "text": [
      "RANDOM FOREST REGRESSION - SELECTED FEATURES\n",
      "Train Score: \n",
      "0.9711443306170544\n",
      "Test Score: \n",
      "0.7900907133375891\n"
     ]
    }
   ],
   "source": [
    "selected_RF = RFECV(rf_model, step=25, cv=5)\n",
    "selected_RF = selected_RF.fit(X_train, y_train)\n",
    "ypred_train = selected_RF.predict(X_train)\n",
    "ypred_test = selected_RF.predict(X_test)\n",
    "print(\"RANDOM FOREST REGRESSION - SELECTED FEATURES\")\n",
    "print(\"Train Score: \")\n",
    "print(r2_score(y_train, ypred_train))\n",
    "print(\"Test Score: \")\n",
    "print(r2_score(y_test, ypred_test))"
   ]
  },
  {
   "cell_type": "code",
   "execution_count": 42,
   "id": "5009f004",
   "metadata": {},
   "outputs": [
    {
     "data": {
      "text/plain": [
       "[                                                 0\n",
       " 2                   LEFT_EYE_OUTER_POS_x__kurtosis\n",
       " 9     LEFT_EYE_OUTER_POS_x__cid_ce__normalize_True\n",
       " 23                  LEFT_EYE_OUTER_DIST_x__maximum\n",
       " 24   LEFT_EYE_OUTER_DIST_x__autocorrelation__lag_1\n",
       " 26                LEFT_EYE_OUTER_DIST_x__c3__lag_1\n",
       " ..                                             ...\n",
       " 471                        RIGHT_ANKLE_POS_x__mean\n",
       " 479                    RIGHT_ANKLE_POS_y__kurtosis\n",
       " 492     RIGHT_ANKLE_DIST_x__autocorrelation__lag_1\n",
       " 499         RIGHT_ANKLE_DIST_y__standard_deviation\n",
       " 501     RIGHT_ANKLE_DIST_y__autocorrelation__lag_1\n",
       " \n",
       " [105 rows x 1 columns]]"
      ]
     },
     "execution_count": 42,
     "metadata": {},
     "output_type": "execute_result"
    }
   ],
   "source": [
    "names = pd.DataFrame(selected_RF.feature_names_in_)\n",
    "best_features = [names.iloc[selected_RF.ranking_==1]]\n",
    "best_features"
   ]
  },
  {
   "cell_type": "code",
   "execution_count": null,
   "id": "53d845a1",
   "metadata": {},
   "outputs": [],
   "source": []
  },
  {
   "cell_type": "code",
   "execution_count": null,
   "id": "179e98c0",
   "metadata": {},
   "outputs": [],
   "source": []
  },
  {
   "cell_type": "code",
   "execution_count": null,
   "id": "1487e8a9",
   "metadata": {},
   "outputs": [],
   "source": []
  }
 ],
 "metadata": {
  "kernelspec": {
   "display_name": "Python 3",
   "language": "python",
   "name": "python3"
  },
  "language_info": {
   "codemirror_mode": {
    "name": "ipython",
    "version": 3
   },
   "file_extension": ".py",
   "mimetype": "text/x-python",
   "name": "python",
   "nbconvert_exporter": "python",
   "pygments_lexer": "ipython3",
   "version": "3.8.12"
  }
 },
 "nbformat": 4,
 "nbformat_minor": 5
}
