{
 "cells": [
  {
   "cell_type": "code",
   "execution_count": 36,
   "id": "aa11c6bf",
   "metadata": {},
   "outputs": [],
   "source": [
    "import pandas as pd\n",
    "from sklearn.linear_model import LinearRegression\n",
    "from sklearn.model_selection import train_test_split\n",
    "from sklearn.metrics import r2_score\n",
    "from sklearn.neighbors import KNeighborsRegressor\n",
    "from sklearn.svm import LinearSVR\n",
    "from sklearn.multioutput import MultiOutputRegressor\n",
    "from sklearn.linear_model import Ridge\n",
    "from sklearn.linear_model import ElasticNet\n",
    "from sklearn.linear_model import Lasso\n",
    "from sklearn.linear_model import BayesianRidge\n",
    "from sklearn.linear_model import MultiTaskLasso\n",
    "from sklearn.linear_model import MultiTaskElasticNet\n",
    "from sklearn.ensemble import AdaBoostRegressor\n",
    "from sklearn.tree import DecisionTreeRegressor\n",
    "from sklearn.ensemble import RandomForestRegressor"
   ]
  },
  {
   "cell_type": "code",
   "execution_count": 37,
   "id": "67bce870",
   "metadata": {},
   "outputs": [],
   "source": [
    "data = pd.read_csv(\"parser_output/extracted_features_split_3_7.csv\")\n",
    "data = data.dropna()"
   ]
  },
  {
   "cell_type": "code",
   "execution_count": 38,
   "id": "28d520c6",
   "metadata": {},
   "outputs": [
    {
     "data": {
      "text/html": [
       "<div>\n",
       "<style scoped>\n",
       "    .dataframe tbody tr th:only-of-type {\n",
       "        vertical-align: middle;\n",
       "    }\n",
       "\n",
       "    .dataframe tbody tr th {\n",
       "        vertical-align: top;\n",
       "    }\n",
       "\n",
       "    .dataframe thead th {\n",
       "        text-align: right;\n",
       "    }\n",
       "</style>\n",
       "<table border=\"1\" class=\"dataframe\">\n",
       "  <thead>\n",
       "    <tr style=\"text-align: right;\">\n",
       "      <th></th>\n",
       "      <th>Unnamed: 0</th>\n",
       "      <th>LEFT_EYE_OUTER_POS_x__abs_energy</th>\n",
       "      <th>LEFT_EYE_OUTER_POS_x__kurtosis</th>\n",
       "      <th>LEFT_EYE_OUTER_POS_x__mean</th>\n",
       "      <th>LEFT_EYE_OUTER_POS_x__standard_deviation</th>\n",
       "      <th>LEFT_EYE_OUTER_POS_x__maximum</th>\n",
       "      <th>LEFT_EYE_OUTER_POS_x__autocorrelation__lag_1</th>\n",
       "      <th>LEFT_EYE_OUTER_POS_x__approximate_entropy__m_20__r_0.05</th>\n",
       "      <th>LEFT_EYE_OUTER_POS_x__c3__lag_1</th>\n",
       "      <th>LEFT_EYE_OUTER_POS_x__cid_ce__normalize_True</th>\n",
       "      <th>...</th>\n",
       "      <th>key</th>\n",
       "      <th>loudness</th>\n",
       "      <th>mode</th>\n",
       "      <th>speechiness</th>\n",
       "      <th>acousticness</th>\n",
       "      <th>instrumentalness</th>\n",
       "      <th>liveness</th>\n",
       "      <th>valence</th>\n",
       "      <th>tempo</th>\n",
       "      <th>time_signature</th>\n",
       "    </tr>\n",
       "  </thead>\n",
       "  <tbody>\n",
       "    <tr>\n",
       "      <th>0</th>\n",
       "      <td>1</td>\n",
       "      <td>3.857886e+06</td>\n",
       "      <td>-0.500597</td>\n",
       "      <td>229.468110</td>\n",
       "      <td>30.432529</td>\n",
       "      <td>289.405029</td>\n",
       "      <td>0.989740</td>\n",
       "      <td>0.019048</td>\n",
       "      <td>1.261402e+07</td>\n",
       "      <td>1.356488</td>\n",
       "      <td>...</td>\n",
       "      <td>1.0</td>\n",
       "      <td>-11.683</td>\n",
       "      <td>1.0</td>\n",
       "      <td>0.4710</td>\n",
       "      <td>0.0346</td>\n",
       "      <td>0.069800</td>\n",
       "      <td>0.1120</td>\n",
       "      <td>0.394</td>\n",
       "      <td>120.461</td>\n",
       "      <td>4.0</td>\n",
       "    </tr>\n",
       "    <tr>\n",
       "      <th>1</th>\n",
       "      <td>1</td>\n",
       "      <td>3.855130e+06</td>\n",
       "      <td>-0.483415</td>\n",
       "      <td>231.389670</td>\n",
       "      <td>27.503200</td>\n",
       "      <td>295.279053</td>\n",
       "      <td>0.958905</td>\n",
       "      <td>0.019418</td>\n",
       "      <td>1.296885e+07</td>\n",
       "      <td>2.453771</td>\n",
       "      <td>...</td>\n",
       "      <td>1.0</td>\n",
       "      <td>-11.683</td>\n",
       "      <td>1.0</td>\n",
       "      <td>0.4710</td>\n",
       "      <td>0.0346</td>\n",
       "      <td>0.069800</td>\n",
       "      <td>0.1120</td>\n",
       "      <td>0.394</td>\n",
       "      <td>120.461</td>\n",
       "      <td>4.0</td>\n",
       "    </tr>\n",
       "    <tr>\n",
       "      <th>2</th>\n",
       "      <td>1</td>\n",
       "      <td>2.988295e+06</td>\n",
       "      <td>-1.564327</td>\n",
       "      <td>204.247290</td>\n",
       "      <td>19.279543</td>\n",
       "      <td>231.353989</td>\n",
       "      <td>0.984248</td>\n",
       "      <td>0.019418</td>\n",
       "      <td>8.737854e+06</td>\n",
       "      <td>1.356007</td>\n",
       "      <td>...</td>\n",
       "      <td>1.0</td>\n",
       "      <td>-11.683</td>\n",
       "      <td>1.0</td>\n",
       "      <td>0.4710</td>\n",
       "      <td>0.0346</td>\n",
       "      <td>0.069800</td>\n",
       "      <td>0.1120</td>\n",
       "      <td>0.394</td>\n",
       "      <td>120.461</td>\n",
       "      <td>4.0</td>\n",
       "    </tr>\n",
       "    <tr>\n",
       "      <th>3</th>\n",
       "      <td>1</td>\n",
       "      <td>5.229781e+06</td>\n",
       "      <td>5.505027</td>\n",
       "      <td>261.979358</td>\n",
       "      <td>13.406352</td>\n",
       "      <td>288.362549</td>\n",
       "      <td>0.740990</td>\n",
       "      <td>0.017700</td>\n",
       "      <td>1.824470e+07</td>\n",
       "      <td>4.185149</td>\n",
       "      <td>...</td>\n",
       "      <td>1.0</td>\n",
       "      <td>-4.961</td>\n",
       "      <td>1.0</td>\n",
       "      <td>0.0406</td>\n",
       "      <td>0.0130</td>\n",
       "      <td>0.000000</td>\n",
       "      <td>0.0944</td>\n",
       "      <td>0.860</td>\n",
       "      <td>134.066</td>\n",
       "      <td>4.0</td>\n",
       "    </tr>\n",
       "    <tr>\n",
       "      <th>4</th>\n",
       "      <td>1</td>\n",
       "      <td>3.804110e+06</td>\n",
       "      <td>-1.651266</td>\n",
       "      <td>221.742280</td>\n",
       "      <td>29.739429</td>\n",
       "      <td>267.973663</td>\n",
       "      <td>0.980201</td>\n",
       "      <td>0.017700</td>\n",
       "      <td>1.132808e+07</td>\n",
       "      <td>1.264870</td>\n",
       "      <td>...</td>\n",
       "      <td>1.0</td>\n",
       "      <td>-4.961</td>\n",
       "      <td>1.0</td>\n",
       "      <td>0.0406</td>\n",
       "      <td>0.0130</td>\n",
       "      <td>0.000000</td>\n",
       "      <td>0.0944</td>\n",
       "      <td>0.860</td>\n",
       "      <td>134.066</td>\n",
       "      <td>4.0</td>\n",
       "    </tr>\n",
       "    <tr>\n",
       "      <th>...</th>\n",
       "      <td>...</td>\n",
       "      <td>...</td>\n",
       "      <td>...</td>\n",
       "      <td>...</td>\n",
       "      <td>...</td>\n",
       "      <td>...</td>\n",
       "      <td>...</td>\n",
       "      <td>...</td>\n",
       "      <td>...</td>\n",
       "      <td>...</td>\n",
       "      <td>...</td>\n",
       "      <td>...</td>\n",
       "      <td>...</td>\n",
       "      <td>...</td>\n",
       "      <td>...</td>\n",
       "      <td>...</td>\n",
       "      <td>...</td>\n",
       "      <td>...</td>\n",
       "      <td>...</td>\n",
       "      <td>...</td>\n",
       "      <td>...</td>\n",
       "    </tr>\n",
       "    <tr>\n",
       "      <th>451</th>\n",
       "      <td>1</td>\n",
       "      <td>7.675702e+06</td>\n",
       "      <td>-0.435535</td>\n",
       "      <td>308.844658</td>\n",
       "      <td>23.690804</td>\n",
       "      <td>354.522064</td>\n",
       "      <td>0.925335</td>\n",
       "      <td>0.016529</td>\n",
       "      <td>2.980213e+07</td>\n",
       "      <td>3.196603</td>\n",
       "      <td>...</td>\n",
       "      <td>1.0</td>\n",
       "      <td>-8.052</td>\n",
       "      <td>0.0</td>\n",
       "      <td>0.0602</td>\n",
       "      <td>0.4330</td>\n",
       "      <td>0.000021</td>\n",
       "      <td>0.1130</td>\n",
       "      <td>0.319</td>\n",
       "      <td>110.020</td>\n",
       "      <td>4.0</td>\n",
       "    </tr>\n",
       "    <tr>\n",
       "      <th>452</th>\n",
       "      <td>1</td>\n",
       "      <td>6.251677e+06</td>\n",
       "      <td>-0.297580</td>\n",
       "      <td>278.276065</td>\n",
       "      <td>26.615771</td>\n",
       "      <td>340.213379</td>\n",
       "      <td>0.965443</td>\n",
       "      <td>0.016529</td>\n",
       "      <td>2.204985e+07</td>\n",
       "      <td>2.506837</td>\n",
       "      <td>...</td>\n",
       "      <td>1.0</td>\n",
       "      <td>-8.052</td>\n",
       "      <td>0.0</td>\n",
       "      <td>0.0602</td>\n",
       "      <td>0.4330</td>\n",
       "      <td>0.000021</td>\n",
       "      <td>0.1130</td>\n",
       "      <td>0.319</td>\n",
       "      <td>110.020</td>\n",
       "      <td>4.0</td>\n",
       "    </tr>\n",
       "    <tr>\n",
       "      <th>453</th>\n",
       "      <td>1</td>\n",
       "      <td>6.060124e+06</td>\n",
       "      <td>-0.456614</td>\n",
       "      <td>262.688884</td>\n",
       "      <td>38.224373</td>\n",
       "      <td>341.834381</td>\n",
       "      <td>0.976419</td>\n",
       "      <td>0.015038</td>\n",
       "      <td>1.917193e+07</td>\n",
       "      <td>1.295994</td>\n",
       "      <td>...</td>\n",
       "      <td>2.0</td>\n",
       "      <td>-2.718</td>\n",
       "      <td>0.0</td>\n",
       "      <td>0.1420</td>\n",
       "      <td>0.0991</td>\n",
       "      <td>0.000000</td>\n",
       "      <td>0.2890</td>\n",
       "      <td>0.714</td>\n",
       "      <td>120.028</td>\n",
       "      <td>4.0</td>\n",
       "    </tr>\n",
       "    <tr>\n",
       "      <th>454</th>\n",
       "      <td>1</td>\n",
       "      <td>7.223848e+06</td>\n",
       "      <td>-1.372063</td>\n",
       "      <td>289.089690</td>\n",
       "      <td>37.597903</td>\n",
       "      <td>361.687378</td>\n",
       "      <td>0.997473</td>\n",
       "      <td>0.015267</td>\n",
       "      <td>2.539007e+07</td>\n",
       "      <td>1.326772</td>\n",
       "      <td>...</td>\n",
       "      <td>2.0</td>\n",
       "      <td>-2.718</td>\n",
       "      <td>0.0</td>\n",
       "      <td>0.1420</td>\n",
       "      <td>0.0991</td>\n",
       "      <td>0.000000</td>\n",
       "      <td>0.2890</td>\n",
       "      <td>0.714</td>\n",
       "      <td>120.028</td>\n",
       "      <td>4.0</td>\n",
       "    </tr>\n",
       "    <tr>\n",
       "      <th>455</th>\n",
       "      <td>1</td>\n",
       "      <td>8.786658e+06</td>\n",
       "      <td>0.072994</td>\n",
       "      <td>319.939200</td>\n",
       "      <td>31.801880</td>\n",
       "      <td>392.922302</td>\n",
       "      <td>0.970213</td>\n",
       "      <td>0.015267</td>\n",
       "      <td>3.394232e+07</td>\n",
       "      <td>2.111071</td>\n",
       "      <td>...</td>\n",
       "      <td>2.0</td>\n",
       "      <td>-2.718</td>\n",
       "      <td>0.0</td>\n",
       "      <td>0.1420</td>\n",
       "      <td>0.0991</td>\n",
       "      <td>0.000000</td>\n",
       "      <td>0.2890</td>\n",
       "      <td>0.714</td>\n",
       "      <td>120.028</td>\n",
       "      <td>4.0</td>\n",
       "    </tr>\n",
       "  </tbody>\n",
       "</table>\n",
       "<p>417 rows × 517 columns</p>\n",
       "</div>"
      ],
      "text/plain": [
       "     Unnamed: 0  LEFT_EYE_OUTER_POS_x__abs_energy  \\\n",
       "0             1                      3.857886e+06   \n",
       "1             1                      3.855130e+06   \n",
       "2             1                      2.988295e+06   \n",
       "3             1                      5.229781e+06   \n",
       "4             1                      3.804110e+06   \n",
       "..          ...                               ...   \n",
       "451           1                      7.675702e+06   \n",
       "452           1                      6.251677e+06   \n",
       "453           1                      6.060124e+06   \n",
       "454           1                      7.223848e+06   \n",
       "455           1                      8.786658e+06   \n",
       "\n",
       "     LEFT_EYE_OUTER_POS_x__kurtosis  LEFT_EYE_OUTER_POS_x__mean  \\\n",
       "0                         -0.500597                  229.468110   \n",
       "1                         -0.483415                  231.389670   \n",
       "2                         -1.564327                  204.247290   \n",
       "3                          5.505027                  261.979358   \n",
       "4                         -1.651266                  221.742280   \n",
       "..                              ...                         ...   \n",
       "451                       -0.435535                  308.844658   \n",
       "452                       -0.297580                  278.276065   \n",
       "453                       -0.456614                  262.688884   \n",
       "454                       -1.372063                  289.089690   \n",
       "455                        0.072994                  319.939200   \n",
       "\n",
       "     LEFT_EYE_OUTER_POS_x__standard_deviation  LEFT_EYE_OUTER_POS_x__maximum  \\\n",
       "0                                   30.432529                     289.405029   \n",
       "1                                   27.503200                     295.279053   \n",
       "2                                   19.279543                     231.353989   \n",
       "3                                   13.406352                     288.362549   \n",
       "4                                   29.739429                     267.973663   \n",
       "..                                        ...                            ...   \n",
       "451                                 23.690804                     354.522064   \n",
       "452                                 26.615771                     340.213379   \n",
       "453                                 38.224373                     341.834381   \n",
       "454                                 37.597903                     361.687378   \n",
       "455                                 31.801880                     392.922302   \n",
       "\n",
       "     LEFT_EYE_OUTER_POS_x__autocorrelation__lag_1  \\\n",
       "0                                        0.989740   \n",
       "1                                        0.958905   \n",
       "2                                        0.984248   \n",
       "3                                        0.740990   \n",
       "4                                        0.980201   \n",
       "..                                            ...   \n",
       "451                                      0.925335   \n",
       "452                                      0.965443   \n",
       "453                                      0.976419   \n",
       "454                                      0.997473   \n",
       "455                                      0.970213   \n",
       "\n",
       "     LEFT_EYE_OUTER_POS_x__approximate_entropy__m_20__r_0.05  \\\n",
       "0                                             0.019048         \n",
       "1                                             0.019418         \n",
       "2                                             0.019418         \n",
       "3                                             0.017700         \n",
       "4                                             0.017700         \n",
       "..                                                 ...         \n",
       "451                                           0.016529         \n",
       "452                                           0.016529         \n",
       "453                                           0.015038         \n",
       "454                                           0.015267         \n",
       "455                                           0.015267         \n",
       "\n",
       "     LEFT_EYE_OUTER_POS_x__c3__lag_1  \\\n",
       "0                       1.261402e+07   \n",
       "1                       1.296885e+07   \n",
       "2                       8.737854e+06   \n",
       "3                       1.824470e+07   \n",
       "4                       1.132808e+07   \n",
       "..                               ...   \n",
       "451                     2.980213e+07   \n",
       "452                     2.204985e+07   \n",
       "453                     1.917193e+07   \n",
       "454                     2.539007e+07   \n",
       "455                     3.394232e+07   \n",
       "\n",
       "     LEFT_EYE_OUTER_POS_x__cid_ce__normalize_True  ...  key  loudness  mode  \\\n",
       "0                                        1.356488  ...  1.0   -11.683   1.0   \n",
       "1                                        2.453771  ...  1.0   -11.683   1.0   \n",
       "2                                        1.356007  ...  1.0   -11.683   1.0   \n",
       "3                                        4.185149  ...  1.0    -4.961   1.0   \n",
       "4                                        1.264870  ...  1.0    -4.961   1.0   \n",
       "..                                            ...  ...  ...       ...   ...   \n",
       "451                                      3.196603  ...  1.0    -8.052   0.0   \n",
       "452                                      2.506837  ...  1.0    -8.052   0.0   \n",
       "453                                      1.295994  ...  2.0    -2.718   0.0   \n",
       "454                                      1.326772  ...  2.0    -2.718   0.0   \n",
       "455                                      2.111071  ...  2.0    -2.718   0.0   \n",
       "\n",
       "     speechiness  acousticness  instrumentalness  liveness  valence    tempo  \\\n",
       "0         0.4710        0.0346          0.069800    0.1120    0.394  120.461   \n",
       "1         0.4710        0.0346          0.069800    0.1120    0.394  120.461   \n",
       "2         0.4710        0.0346          0.069800    0.1120    0.394  120.461   \n",
       "3         0.0406        0.0130          0.000000    0.0944    0.860  134.066   \n",
       "4         0.0406        0.0130          0.000000    0.0944    0.860  134.066   \n",
       "..           ...           ...               ...       ...      ...      ...   \n",
       "451       0.0602        0.4330          0.000021    0.1130    0.319  110.020   \n",
       "452       0.0602        0.4330          0.000021    0.1130    0.319  110.020   \n",
       "453       0.1420        0.0991          0.000000    0.2890    0.714  120.028   \n",
       "454       0.1420        0.0991          0.000000    0.2890    0.714  120.028   \n",
       "455       0.1420        0.0991          0.000000    0.2890    0.714  120.028   \n",
       "\n",
       "     time_signature  \n",
       "0               4.0  \n",
       "1               4.0  \n",
       "2               4.0  \n",
       "3               4.0  \n",
       "4               4.0  \n",
       "..              ...  \n",
       "451             4.0  \n",
       "452             4.0  \n",
       "453             4.0  \n",
       "454             4.0  \n",
       "455             4.0  \n",
       "\n",
       "[417 rows x 517 columns]"
      ]
     },
     "execution_count": 38,
     "metadata": {},
     "output_type": "execute_result"
    }
   ],
   "source": [
    "data"
   ]
  },
  {
   "cell_type": "code",
   "execution_count": 39,
   "id": "c5728312",
   "metadata": {},
   "outputs": [],
   "source": [
    "#LOOK INTO https://scikit-learn.org/stable/modules/classes.html#module-sklearn.feature_selection\n",
    "#multi output regressor? - https://scikit-learn.org/stable/modules/generated/sklearn.multioutput.MultiOutputRegressor.html#sklearn.multioutput.MultiOutputRegressor"
   ]
  },
  {
   "cell_type": "code",
   "execution_count": 40,
   "id": "99fc5e77",
   "metadata": {},
   "outputs": [],
   "source": [
    "y = data[['danceability', 'energy', 'loudness', 'speechiness', 'acousticness', 'instrumentalness', 'liveness', 'valence', 'tempo']]\n",
    "x = data[data.columns[1:len(data.columns)-12]]\n",
    "\n",
    "X_train, X_test, y_train, y_test = train_test_split(x, y, test_size=0.7)"
   ]
  },
  {
   "cell_type": "markdown",
   "id": "5b7a89bb",
   "metadata": {},
   "source": [
    "## REGRESSION MODELS"
   ]
  },
  {
   "cell_type": "code",
   "execution_count": 41,
   "id": "d4391a94",
   "metadata": {},
   "outputs": [
    {
     "name": "stdout",
     "output_type": "stream",
     "text": [
      "LINEAR REGRESSION\n",
      "Train Score: \n",
      "1.0\n",
      "Test Score: \n",
      "-44.47406047096839\n"
     ]
    }
   ],
   "source": [
    "#lINEAR REGRESSION - \n",
    "reg_model = LinearRegression().fit(X_train, y_train)\n",
    "ypred_train = reg_model.predict(X_train)\n",
    "ypred_test = reg_model.predict(X_test)\n",
    "print(\"LINEAR REGRESSION\")\n",
    "print(\"Train Score: \")\n",
    "print(r2_score(y_train, ypred_train))\n",
    "print(\"Test Score: \")\n",
    "print(r2_score(y_test, ypred_test))"
   ]
  },
  {
   "cell_type": "code",
   "execution_count": 42,
   "id": "223440e7",
   "metadata": {},
   "outputs": [
    {
     "name": "stdout",
     "output_type": "stream",
     "text": [
      "KNN REGRESSION\n",
      "Train Score: \n",
      "0.2570533418829098\n",
      "Test Score: \n",
      "-0.12868770468858626\n"
     ]
    }
   ],
   "source": [
    "#K NEIGHBORS REGRESSOR - https://scikit-learn.org/stable/modules/generated/sklearn.neighbors.KNeighborsRegressor.html#sklearn.neighbors.KNeighborsRegressor\n",
    "knn_model = KNeighborsRegressor().fit(X_train, y_train)\n",
    "ypred_train = knn_model.predict(X_train)\n",
    "ypred_test = knn_model.predict(X_test)\n",
    "print(\"KNN REGRESSION\")\n",
    "print(\"Train Score: \")\n",
    "print(r2_score(y_train, ypred_train))\n",
    "print(\"Test Score: \")\n",
    "print(r2_score(y_test, ypred_test))"
   ]
  },
  {
   "cell_type": "code",
   "execution_count": 43,
   "id": "de1367d8",
   "metadata": {},
   "outputs": [
    {
     "name": "stderr",
     "output_type": "stream",
     "text": [
      "C:\\Users\\mbase\\anaconda3\\lib\\site-packages\\sklearn\\svm\\_base.py:1206: ConvergenceWarning: Liblinear failed to converge, increase the number of iterations.\n",
      "  warnings.warn(\n",
      "C:\\Users\\mbase\\anaconda3\\lib\\site-packages\\sklearn\\svm\\_base.py:1206: ConvergenceWarning: Liblinear failed to converge, increase the number of iterations.\n",
      "  warnings.warn(\n",
      "C:\\Users\\mbase\\anaconda3\\lib\\site-packages\\sklearn\\svm\\_base.py:1206: ConvergenceWarning: Liblinear failed to converge, increase the number of iterations.\n",
      "  warnings.warn(\n",
      "C:\\Users\\mbase\\anaconda3\\lib\\site-packages\\sklearn\\svm\\_base.py:1206: ConvergenceWarning: Liblinear failed to converge, increase the number of iterations.\n",
      "  warnings.warn(\n",
      "C:\\Users\\mbase\\anaconda3\\lib\\site-packages\\sklearn\\svm\\_base.py:1206: ConvergenceWarning: Liblinear failed to converge, increase the number of iterations.\n",
      "  warnings.warn(\n",
      "C:\\Users\\mbase\\anaconda3\\lib\\site-packages\\sklearn\\svm\\_base.py:1206: ConvergenceWarning: Liblinear failed to converge, increase the number of iterations.\n",
      "  warnings.warn(\n",
      "C:\\Users\\mbase\\anaconda3\\lib\\site-packages\\sklearn\\svm\\_base.py:1206: ConvergenceWarning: Liblinear failed to converge, increase the number of iterations.\n",
      "  warnings.warn(\n",
      "C:\\Users\\mbase\\anaconda3\\lib\\site-packages\\sklearn\\svm\\_base.py:1206: ConvergenceWarning: Liblinear failed to converge, increase the number of iterations.\n",
      "  warnings.warn(\n",
      "C:\\Users\\mbase\\anaconda3\\lib\\site-packages\\sklearn\\svm\\_base.py:1206: ConvergenceWarning: Liblinear failed to converge, increase the number of iterations.\n",
      "  warnings.warn(\n"
     ]
    },
    {
     "name": "stdout",
     "output_type": "stream",
     "text": [
      "SVR REGRESSION\n",
      "Train Score: \n",
      "-8.279589019183685\n",
      "Test Score: \n",
      "-8.899944024784837\n"
     ]
    }
   ],
   "source": [
    "#LINEAR SVR - https://scikit-learn.org/stable/modules/generated/sklearn.svm.LinearSVR.html#sklearn.svm.LinearSVR\n",
    "svr_model = MultiOutputRegressor(LinearSVR()).fit(X_train, y_train)\n",
    "ypred_train = svr_model.predict(X_train)\n",
    "ypred_test = svr_model.predict(X_test)\n",
    "print(\"SVR REGRESSION\")\n",
    "print(\"Train Score: \")\n",
    "print(r2_score(y_train, ypred_train))\n",
    "print(\"Test Score: \")\n",
    "print(r2_score(y_test, ypred_test))"
   ]
  },
  {
   "cell_type": "code",
   "execution_count": 44,
   "id": "8498f9c2",
   "metadata": {},
   "outputs": [
    {
     "name": "stdout",
     "output_type": "stream",
     "text": [
      "RIDGE REGRESSION\n",
      "Train Score: \n",
      "0.9939064678939974\n",
      "Test Score: \n",
      "-51.644339089547856\n"
     ]
    },
    {
     "name": "stderr",
     "output_type": "stream",
     "text": [
      "C:\\Users\\mbase\\anaconda3\\lib\\site-packages\\sklearn\\linear_model\\_ridge.py:195: UserWarning: Singular matrix in solving dual problem. Using least-squares solution instead.\n",
      "  warnings.warn(\n"
     ]
    }
   ],
   "source": [
    "#RIDGE REGRESSOR - https://scikit-learn.org/stable/modules/generated/sklearn.linear_model.Ridge.html#sklearn.linear_model.Ridge\n",
    "ridge_model = Ridge().fit(X_train, y_train)\n",
    "ypred_train = ridge_model.predict(X_train)\n",
    "ypred_test = ridge_model.predict(X_test)\n",
    "print(\"RIDGE REGRESSION\")\n",
    "print(\"Train Score: \")\n",
    "print(r2_score(y_train, ypred_train))\n",
    "print(\"Test Score: \")\n",
    "print(r2_score(y_test, ypred_test))"
   ]
  },
  {
   "cell_type": "code",
   "execution_count": 45,
   "id": "c1465639",
   "metadata": {},
   "outputs": [
    {
     "name": "stderr",
     "output_type": "stream",
     "text": [
      "C:\\Users\\mbase\\anaconda3\\lib\\site-packages\\sklearn\\linear_model\\_coordinate_descent.py:647: ConvergenceWarning: Objective did not converge. You might want to increase the number of iterations, check the scale of the features or consider increasing regularisation. Duality gap: 5.254e-01, tolerance: 2.868e-04\n",
      "  model = cd_fast.enet_coordinate_descent(\n",
      "C:\\Users\\mbase\\anaconda3\\lib\\site-packages\\sklearn\\linear_model\\_coordinate_descent.py:647: ConvergenceWarning: Objective did not converge. You might want to increase the number of iterations, check the scale of the features or consider increasing regularisation. Duality gap: 6.914e-01, tolerance: 4.229e-04\n",
      "  model = cd_fast.enet_coordinate_descent(\n",
      "C:\\Users\\mbase\\anaconda3\\lib\\site-packages\\sklearn\\linear_model\\_coordinate_descent.py:647: ConvergenceWarning: Objective did not converge. You might want to increase the number of iterations, check the scale of the features or consider increasing regularisation. Duality gap: 1.209e+02, tolerance: 9.098e-02\n",
      "  model = cd_fast.enet_coordinate_descent(\n",
      "C:\\Users\\mbase\\anaconda3\\lib\\site-packages\\sklearn\\linear_model\\_coordinate_descent.py:647: ConvergenceWarning: Objective did not converge. You might want to increase the number of iterations, check the scale of the features or consider increasing regularisation. Duality gap: 6.736e-01, tolerance: 3.484e-04\n",
      "  model = cd_fast.enet_coordinate_descent(\n",
      "C:\\Users\\mbase\\anaconda3\\lib\\site-packages\\sklearn\\linear_model\\_coordinate_descent.py:647: ConvergenceWarning: Objective did not converge. You might want to increase the number of iterations, check the scale of the features or consider increasing regularisation. Duality gap: 1.187e+00, tolerance: 6.033e-04\n",
      "  model = cd_fast.enet_coordinate_descent(\n",
      "C:\\Users\\mbase\\anaconda3\\lib\\site-packages\\sklearn\\linear_model\\_coordinate_descent.py:647: ConvergenceWarning: Objective did not converge. You might want to increase the number of iterations, check the scale of the features or consider increasing regularisation. Duality gap: 1.629e-02, tolerance: 7.692e-06\n",
      "  model = cd_fast.enet_coordinate_descent(\n"
     ]
    },
    {
     "name": "stdout",
     "output_type": "stream",
     "text": [
      "ELASTIC REGRESSION\n",
      "Train Score: \n",
      "0.6970429404370493\n",
      "Test Score: \n",
      "-2.5571774799254876\n"
     ]
    },
    {
     "name": "stderr",
     "output_type": "stream",
     "text": [
      "C:\\Users\\mbase\\anaconda3\\lib\\site-packages\\sklearn\\linear_model\\_coordinate_descent.py:647: ConvergenceWarning: Objective did not converge. You might want to increase the number of iterations, check the scale of the features or consider increasing regularisation. Duality gap: 2.311e-01, tolerance: 9.694e-05\n",
      "  model = cd_fast.enet_coordinate_descent(\n",
      "C:\\Users\\mbase\\anaconda3\\lib\\site-packages\\sklearn\\linear_model\\_coordinate_descent.py:647: ConvergenceWarning: Objective did not converge. You might want to increase the number of iterations, check the scale of the features or consider increasing regularisation. Duality gap: 1.421e+00, tolerance: 6.344e-04\n",
      "  model = cd_fast.enet_coordinate_descent(\n",
      "C:\\Users\\mbase\\anaconda3\\lib\\site-packages\\sklearn\\linear_model\\_coordinate_descent.py:647: ConvergenceWarning: Objective did not converge. You might want to increase the number of iterations, check the scale of the features or consider increasing regularisation. Duality gap: 3.174e+03, tolerance: 7.480e+00\n",
      "  model = cd_fast.enet_coordinate_descent(\n"
     ]
    }
   ],
   "source": [
    "#ELASTIC NET - https://scikit-learn.org/stable/modules/generated/sklearn.linear_model.ElasticNet.html#sklearn.linear_model.ElasticNet\n",
    "elastic_model = ElasticNet().fit(X_train, y_train)\n",
    "ypred_train = elastic_model.predict(X_train)\n",
    "ypred_test = elastic_model.predict(X_test)\n",
    "print(\"ELASTIC REGRESSION\")\n",
    "print(\"Train Score: \")\n",
    "print(r2_score(y_train, ypred_train))\n",
    "print(\"Test Score: \")\n",
    "print(r2_score(y_test, ypred_test))"
   ]
  },
  {
   "cell_type": "code",
   "execution_count": 46,
   "id": "6f5e0cc4",
   "metadata": {},
   "outputs": [
    {
     "name": "stderr",
     "output_type": "stream",
     "text": [
      "C:\\Users\\mbase\\anaconda3\\lib\\site-packages\\sklearn\\linear_model\\_coordinate_descent.py:647: ConvergenceWarning: Objective did not converge. You might want to increase the number of iterations, check the scale of the features or consider increasing regularisation. Duality gap: 5.864e-01, tolerance: 2.868e-04\n",
      "  model = cd_fast.enet_coordinate_descent(\n",
      "C:\\Users\\mbase\\anaconda3\\lib\\site-packages\\sklearn\\linear_model\\_coordinate_descent.py:647: ConvergenceWarning: Objective did not converge. You might want to increase the number of iterations, check the scale of the features or consider increasing regularisation. Duality gap: 7.517e-01, tolerance: 4.229e-04\n",
      "  model = cd_fast.enet_coordinate_descent(\n",
      "C:\\Users\\mbase\\anaconda3\\lib\\site-packages\\sklearn\\linear_model\\_coordinate_descent.py:647: ConvergenceWarning: Objective did not converge. You might want to increase the number of iterations, check the scale of the features or consider increasing regularisation. Duality gap: 1.403e+02, tolerance: 9.098e-02\n",
      "  model = cd_fast.enet_coordinate_descent(\n",
      "C:\\Users\\mbase\\anaconda3\\lib\\site-packages\\sklearn\\linear_model\\_coordinate_descent.py:647: ConvergenceWarning: Objective did not converge. You might want to increase the number of iterations, check the scale of the features or consider increasing regularisation. Duality gap: 7.280e-01, tolerance: 3.484e-04\n",
      "  model = cd_fast.enet_coordinate_descent(\n",
      "C:\\Users\\mbase\\anaconda3\\lib\\site-packages\\sklearn\\linear_model\\_coordinate_descent.py:647: ConvergenceWarning: Objective did not converge. You might want to increase the number of iterations, check the scale of the features or consider increasing regularisation. Duality gap: 1.273e+00, tolerance: 6.033e-04\n",
      "  model = cd_fast.enet_coordinate_descent(\n",
      "C:\\Users\\mbase\\anaconda3\\lib\\site-packages\\sklearn\\linear_model\\_coordinate_descent.py:647: ConvergenceWarning: Objective did not converge. You might want to increase the number of iterations, check the scale of the features or consider increasing regularisation. Duality gap: 1.746e-02, tolerance: 7.692e-06\n",
      "  model = cd_fast.enet_coordinate_descent(\n",
      "C:\\Users\\mbase\\anaconda3\\lib\\site-packages\\sklearn\\linear_model\\_coordinate_descent.py:647: ConvergenceWarning: Objective did not converge. You might want to increase the number of iterations, check the scale of the features or consider increasing regularisation. Duality gap: 2.416e-01, tolerance: 9.694e-05\n",
      "  model = cd_fast.enet_coordinate_descent(\n"
     ]
    },
    {
     "name": "stdout",
     "output_type": "stream",
     "text": [
      "LASSO REGRESSION\n",
      "Train Score: \n",
      "0.6713624457341505\n",
      "Test Score: \n",
      "-2.172821726171175\n"
     ]
    },
    {
     "name": "stderr",
     "output_type": "stream",
     "text": [
      "C:\\Users\\mbase\\anaconda3\\lib\\site-packages\\sklearn\\linear_model\\_coordinate_descent.py:647: ConvergenceWarning: Objective did not converge. You might want to increase the number of iterations, check the scale of the features or consider increasing regularisation. Duality gap: 1.516e+00, tolerance: 6.344e-04\n",
      "  model = cd_fast.enet_coordinate_descent(\n",
      "C:\\Users\\mbase\\anaconda3\\lib\\site-packages\\sklearn\\linear_model\\_coordinate_descent.py:647: ConvergenceWarning: Objective did not converge. You might want to increase the number of iterations, check the scale of the features or consider increasing regularisation. Duality gap: 4.261e+03, tolerance: 7.480e+00\n",
      "  model = cd_fast.enet_coordinate_descent(\n"
     ]
    }
   ],
   "source": [
    "#LASSO - https://scikit-learn.org/stable/modules/generated/sklearn.linear_model.Lasso.html#sklearn.linear_model.Lasso\n",
    "lasso_model = Lasso().fit(X_train, y_train)\n",
    "ypred_train = lasso_model.predict(X_train)\n",
    "ypred_test = lasso_model.predict(X_test)\n",
    "print(\"LASSO REGRESSION\")\n",
    "print(\"Train Score: \")\n",
    "print(r2_score(y_train, ypred_train))\n",
    "print(\"Test Score: \")\n",
    "print(r2_score(y_test, ypred_test))"
   ]
  },
  {
   "cell_type": "code",
   "execution_count": 47,
   "id": "bd94d606",
   "metadata": {},
   "outputs": [
    {
     "name": "stdout",
     "output_type": "stream",
     "text": [
      "ADABOOST REGRESSION\n",
      "Train Score: \n",
      "0.894365136784189\n",
      "Test Score: \n",
      "0.0036922860862766476\n"
     ]
    }
   ],
   "source": [
    "#AdaBoost - https://scikit-learn.org/stable/modules/generated/sklearn.ensemble.AdaBoostRegressor.html#sklearn.ensemble.AdaBoostRegressor\n",
    "adaBoost_model = MultiOutputRegressor(AdaBoostRegressor()).fit(X_train, y_train)\n",
    "ypred_train = adaBoost_model.predict(X_train)\n",
    "ypred_test = adaBoost_model.predict(X_test)\n",
    "print(\"ADABOOST REGRESSION\")\n",
    "print(\"Train Score: \")\n",
    "print(r2_score(y_train, ypred_train))\n",
    "print(\"Test Score: \")\n",
    "print(r2_score(y_test, ypred_test))"
   ]
  },
  {
   "cell_type": "code",
   "execution_count": 48,
   "id": "8ec8a94f",
   "metadata": {},
   "outputs": [
    {
     "name": "stdout",
     "output_type": "stream",
     "text": [
      "TREE REGRESSION\n",
      "Train Score: \n",
      "1.0\n",
      "Test Score: \n",
      "-1.086482939130578\n"
     ]
    }
   ],
   "source": [
    "#Tree - https://scikit-learn.org/stable/modules/generated/sklearn.tree.DecisionTreeRegressor.html#sklearn.tree.DecisionTreeRegressor\n",
    "tree_model = DecisionTreeRegressor().fit(X_train, y_train)\n",
    "ypred_train = tree_model.predict(X_train)\n",
    "ypred_test = tree_model.predict(X_test)\n",
    "print(\"TREE REGRESSION\")\n",
    "print(\"Train Score: \")\n",
    "print(r2_score(y_train, ypred_train))\n",
    "print(\"Test Score: \")\n",
    "print(r2_score(y_test, ypred_test))"
   ]
  },
  {
   "cell_type": "code",
   "execution_count": 49,
   "id": "e776f020",
   "metadata": {},
   "outputs": [
    {
     "name": "stdout",
     "output_type": "stream",
     "text": [
      "RANDOM FOREST REGRESSION\n",
      "Train Score: \n",
      "0.8681500545677933\n",
      "Test Score: \n",
      "0.04774079031874116\n"
     ]
    }
   ],
   "source": [
    "#Random Forest - https://scikit-learn.org/stable/modules/generated/sklearn.ensemble.RandomForestRegressor.html#sklearn.ensemble.RandomForestRegressor\n",
    "rf_model = RandomForestRegressor().fit(X_train, y_train)\n",
    "ypred_train = rf_model.predict(X_train)\n",
    "ypred_test = rf_model.predict(X_test)\n",
    "print(\"RANDOM FOREST REGRESSION\")\n",
    "print(\"Train Score: \")\n",
    "print(r2_score(y_train, ypred_train))\n",
    "print(\"Test Score: \")\n",
    "print(r2_score(y_test, ypred_test))"
   ]
  },
  {
   "cell_type": "code",
   "execution_count": 50,
   "id": "dcbff8dc",
   "metadata": {
    "scrolled": true
   },
   "outputs": [
    {
     "name": "stdout",
     "output_type": "stream",
     "text": [
      "BAYESIAN RIDGE REGRESSION\n",
      "Train Score: \n",
      "0.9503584406849197\n",
      "Test Score: \n",
      "-40.08580105043191\n"
     ]
    }
   ],
   "source": [
    "#Bayesian Ridge Regression? https://scikit-learn.org/stable/modules/generated/sklearn.linear_model.BayesianRidge.html#sklearn.linear_model.BayesianRidge\n",
    "bayesianRidge_model = MultiOutputRegressor(BayesianRidge()).fit(X_train, y_train)\n",
    "ypred_train = bayesianRidge_model.predict(X_train)\n",
    "ypred_test = bayesianRidge_model.predict(X_test)\n",
    "print(\"BAYESIAN RIDGE REGRESSION\")\n",
    "print(\"Train Score: \")\n",
    "print(r2_score(y_train, ypred_train))\n",
    "print(\"Test Score: \")\n",
    "print(r2_score(y_test, ypred_test))"
   ]
  },
  {
   "cell_type": "code",
   "execution_count": 51,
   "id": "d0969478",
   "metadata": {},
   "outputs": [
    {
     "name": "stdout",
     "output_type": "stream",
     "text": [
      "MULTITASK LASSO REGRESSION\n",
      "Train Score: \n",
      "0.903482194502293\n",
      "Test Score: \n",
      "-4.988014313074541\n"
     ]
    },
    {
     "name": "stderr",
     "output_type": "stream",
     "text": [
      "C:\\Users\\mbase\\anaconda3\\lib\\site-packages\\sklearn\\linear_model\\_coordinate_descent.py:2442: ConvergenceWarning: Objective did not converge. You might want to increase the number of iterations. Duality gap: 4357.334762957316, tolerance: 7.572975098797615\n",
      "  ) = cd_fast.enet_coordinate_descent_multi_task(\n"
     ]
    }
   ],
   "source": [
    "#Multitask Lasso? https://scikit-learn.org/stable/modules/generated/sklearn.linear_model.MultiTaskLasso.html#sklearn.linear_model.MultiTaskLasso\n",
    "mtLasso_model = MultiTaskLasso().fit(X_train, y_train)\n",
    "ypred_train = mtLasso_model.predict(X_train)\n",
    "ypred_test = mtLasso_model.predict(X_test)\n",
    "print(\"MULTITASK LASSO REGRESSION\")\n",
    "print(\"Train Score: \")\n",
    "print(r2_score(y_train, ypred_train))\n",
    "print(\"Test Score: \")\n",
    "print(r2_score(y_test, ypred_test))"
   ]
  },
  {
   "cell_type": "code",
   "execution_count": 52,
   "id": "00818b25",
   "metadata": {},
   "outputs": [
    {
     "name": "stdout",
     "output_type": "stream",
     "text": [
      "MULTITASK ELASTIC NET REGRESSION\n",
      "Train Score: \n",
      "0.9454038054650213\n",
      "Test Score: \n",
      "-5.78632919288477\n"
     ]
    },
    {
     "name": "stderr",
     "output_type": "stream",
     "text": [
      "C:\\Users\\mbase\\anaconda3\\lib\\site-packages\\sklearn\\linear_model\\_coordinate_descent.py:2442: ConvergenceWarning: Objective did not converge. You might want to increase the number of iterations. Duality gap: 3236.5508500860537, tolerance: 7.572975098797615\n",
      "  ) = cd_fast.enet_coordinate_descent_multi_task(\n"
     ]
    }
   ],
   "source": [
    "#Multitask Elastic Net? https://scikit-learn.org/stable/modules/generated/sklearn.linear_model.MultiTaskElasticNet.html#sklearn.linear_model.MultiTaskElasticNet\n",
    "mtNet_model = MultiTaskElasticNet().fit(X_train, y_train)\n",
    "ypred_train = mtNet_model.predict(X_train)\n",
    "ypred_test = mtNet_model.predict(X_test)\n",
    "print(\"MULTITASK ELASTIC NET REGRESSION\")\n",
    "print(\"Train Score: \")\n",
    "print(r2_score(y_train, ypred_train))\n",
    "print(\"Test Score: \")\n",
    "print(r2_score(y_test, ypred_test))"
   ]
  },
  {
   "cell_type": "markdown",
   "id": "65bac734",
   "metadata": {},
   "source": [
    "## CLASSIFICATION MODELS"
   ]
  },
  {
   "cell_type": "code",
   "execution_count": null,
   "id": "fa4f391f",
   "metadata": {},
   "outputs": [],
   "source": []
  },
  {
   "cell_type": "code",
   "execution_count": null,
   "id": "eff5b51c",
   "metadata": {},
   "outputs": [],
   "source": []
  }
 ],
 "metadata": {
  "kernelspec": {
   "display_name": "Python 3",
   "language": "python",
   "name": "python3"
  },
  "language_info": {
   "codemirror_mode": {
    "name": "ipython",
    "version": 3
   },
   "file_extension": ".py",
   "mimetype": "text/x-python",
   "name": "python",
   "nbconvert_exporter": "python",
   "pygments_lexer": "ipython3",
   "version": "3.8.12"
  }
 },
 "nbformat": 4,
 "nbformat_minor": 5
}
